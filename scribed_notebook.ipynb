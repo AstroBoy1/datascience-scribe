{
 "cells": [
  {
   "cell_type": "code",
   "execution_count": 38,
   "metadata": {},
   "outputs": [],
   "source": [
    "import pandas as pd\n",
    "import numpy as np\n",
    "import random\n",
    "random.seed=(666)\n"
   ]
  },
  {
   "cell_type": "markdown",
   "metadata": {},
   "source": [
    "# What Place Does Probability Occupy in Data Science\n",
    "\n",
    "    A data scientist is someone who knows more statistics than a computer scientist and more computer science than a statistician. \n",
    "                - Joshua Blumenstock\n",
    "---\n",
    "\n",
    "## Probability Examples in Data Science: A/B Testing\n",
    "\n",
    "   One example of how data scientists use probability is in A/B testing. A/B testing is a simple experiment that examines two versions of something, to see which version performs better. This can be used with anything, which color of a t-shirt sells better, which style of ad leads to more purchases, or which version of a website translates to more traffic. Because a lot of data is needed for the results to be meaningful, A/B testing is mainly used in online applications to optimize websites and online ads. The way that A/B testing works is you show show version A of an ad to half of the people, version B of the ad to the other half of the people, and see which version of the ad has a higher probability of getting people to click on it. For the results to be useful it is important that there aren't many differences between version A and version B. Otherwise it is hard to say what changes caused the difference in performance. \n",
    "\n",
    "---\n",
    "## Probability Examples in Data Science: Simulations\n",
    "\n",
    "   If you don't have data you can simulate the problem to generate data to help answer questions. For example, if there are two types of ads on YouTube, skippable ads which are cheaper and unskippable ads which are more expensive, and we want to know which one is the better purchase we can create a simulation to solve this problem. For each type of ad there is a probability that a user will click on it. After the ad has been clicked there is some probability that the user will make a purchase. If we have some rough idea of the probabilities that users will click on each type of ad, and then make purchases, and a rough idea of how much people spend when they make a purchase, we can create a simulation of the situation. We can then use that simulation to generate data that can be used to evaluate the best type of ad for the money. We don't have to actually purchase both types of ad and then collect data on their effectiveness. \n",
    "    \n",
    "---    \n",
    "## Definitions\n",
    "\n",
    "**Experiment**: An experiment is an operation or procedure carried out under controlled conditions in order to discover an unknown effect or law. To test or establish a hypothesis, or to illustrate a known law. \n",
    "    - Merrium Webster Dictionary\n",
    "\n",
    "A/B testing is an example of an experiment. \n",
    "    \n",
    "**Sample Space**: A sample space is a collection of all possible outcomes of a random experiment. A Sample space may be continuous or discrete. \n",
    "    - Merrium Webster Dictionary\n",
    "\n",
    "Sample space is usually denoted as S. For a coin flip the sample space is (H,T) where H is heads, and T is tails. For a roll of a die the sample space is (1,2,3,4,5,6). If we flip two coins then the sample space is [(H,H), (H,T), (T,H), (T,T)]. These are all examples of discrete sample spaces. A discrete sample space means that there are a finite amount of outcomes of an experiment. We can can also have a continuous sample space. For example the sample space of the heights of NBA players is continuous. There is a lower and upper limit to the possible heights, but in between those values thare are an infinte number of possible heights. \n",
    "\n",
    "**Event**: An event is a subset of the possible outcomes of an experiment. \n",
    "    - Merrium Webster Dictionary\n",
    "\n",
    "An event is usually denoted as E. Following the examples of sample spaces above, for a coin flip heads would be a possible event. For two coins heads,tails would be an event. A NBA player who is 6' tall would be an event. \n",
    "\n",
    "**Probability**: Probability is the ratio of the number of outcomes in an exhastive set of equally likely outcomes that produce a given event to the total number of possible outcomes. A logical relation between statements such that the evidence comfirming one confirms the other to some degree. \n",
    "    - Merrium Webster Dictionary\n",
    "    \n",
    "The probability of all the events must sum to one. If the probability is 1 it is a certainty, if the probability is 0 then the event cannot occur. \n",
    "\n",
    "To calculate the probability of an event in a discrete sample space, all you have to do is count the number of times the event is in the sample space and divide by the total number of events in the sample space. For example if we have a bag of 10 skittles with 3 yellow skittles, 2 purple skittles, 4 red skittles, and 1 green skittle, then we would have a sample space of { y, y, y, p, p, r, r, r, r, g}. If we want to know the probability of picking a purple skittle then we can count the number of purple skittles, and divide by the total number of skittles in the smaple space to get 2/10 or a 20% probability of picking a purple skittle. \n",
    "\n",
    "For continuous sample sets it starts to get more complicated because we have an infinte amount of possible events in the sample space. The probability of a basketball player being exactly 6' tall is almost zero because there are an infinite amount of possible heights that the player could be. So instead we say what is the probability that the basketball player is 6' with a tolerance of .1 feet? To calculate the probability we need to have data about NBA players heights so we can get probability density functon. Once we have a probability density function (pdf) we can integrate the pdf fomr 5.9' to 6.1'.  \n",
    "\n",
    "$$P(X=6)=\\int_{5.9}^{6.1}f(x)dx$$\n",
    "\n",
    "**Long Run Frequencies of an Event**: If the probability of an event occuring is 1 in 6 that doesn't necessarily mean that if you run the experiment 6 times you are gauranteed to see that event. It is possible to roll a die 6 times and never roll a 1, but if you continue to roll that die 1,000 or 10,000 more times eventually you will see that you rolled a 1 1/6th of the time. When we talk about probability we are talking about the long run frequency of an event. \n",
    "\n",
    "--- \n",
    "## Python's Random Module\n",
    "\n",
    "The random module in python allows us to create random numbers, randomly shuffle a list, randomly sample from a probability distrubution, and many other things. If you want your random numbers to be reproducable accross multiple machines you need to set the random.seed(). Otherwise the random.seed will be specific for your machine.  \n"
   ]
  },
  {
   "cell_type": "code",
   "execution_count": 21,
   "metadata": {},
   "outputs": [
    {
     "name": "stdout",
     "output_type": "stream",
     "text": [
      "0.6447343807627546\n",
      "36.94071181525108\n",
      "7\n"
     ]
    }
   ],
   "source": [
    "# you can use random.random() to create a random float between 0 and 1\n",
    "a=random.random()\n",
    "print(a)\n",
    "\n",
    "# if you want a random float that is larger than one you can use random.uniform() \n",
    "b = random.uniform(1,100)\n",
    "print(b)\n",
    "\n",
    "#if you want a random int you can use random.randint()\n",
    "c=random.randint(1,15)\n",
    "print(c)\n",
    "# both the 1 and the 15 are inclusive meaning this could return a 1 or a 15"
   ]
  },
  {
   "cell_type": "code",
   "execution_count": 22,
   "metadata": {},
   "outputs": [
    {
     "data": {
      "text/plain": [
       "'white'"
      ]
     },
     "execution_count": 22,
     "metadata": {},
     "output_type": "execute_result"
    }
   ],
   "source": [
    "# you can use random.choice() to randomly select an element of a list\n",
    "\n",
    "colors=['red','orange','yellow', 'green','blue','indigo', 'violot', 'peach', 'black', 'white']\n",
    "random.choice(colors)"
   ]
  },
  {
   "cell_type": "code",
   "execution_count": 23,
   "metadata": {},
   "outputs": [
    {
     "data": {
      "text/plain": [
       "['green',\n",
       " 'violot',\n",
       " 'peach',\n",
       " 'green',\n",
       " 'white',\n",
       " 'blue',\n",
       " 'green',\n",
       " 'violot',\n",
       " 'yellow',\n",
       " 'yellow']"
      ]
     },
     "execution_count": 23,
     "metadata": {},
     "output_type": "execute_result"
    }
   ],
   "source": [
    "# if you want more than one random element from the list you can use random.choices()\n",
    "random.choices(colors,k=10) #k is the number of random samples that you want"
   ]
  },
  {
   "cell_type": "code",
   "execution_count": 24,
   "metadata": {},
   "outputs": [
    {
     "data": {
      "text/plain": [
       "['green',\n",
       " 'indigo',\n",
       " 'orange',\n",
       " 'orange',\n",
       " 'violot',\n",
       " 'violot',\n",
       " 'peach',\n",
       " 'indigo',\n",
       " 'yellow',\n",
       " 'violot']"
      ]
     },
     "execution_count": 24,
     "metadata": {},
     "output_type": "execute_result"
    }
   ],
   "source": [
    "# you can weight the random choices as well. \n",
    "random.choices(colors,weights=[5,10,20,5,5,15,15,5,6,4],k=10) \n",
    "\n",
    "# In this example the weights list add to 100 for simplicity. The way it works is it adds \n",
    "#up all the all the values in the weights list, and then the probability of each element \n",
    "#is the value of that element/total. So for the color red the weight is 5. 5/100 is 5% so \n",
    "#it has a 5% probability of being selected"
   ]
  },
  {
   "cell_type": "code",
   "execution_count": 25,
   "metadata": {},
   "outputs": [
    {
     "data": {
      "text/plain": [
       "['violot',\n",
       " 'indigo',\n",
       " 'yellow',\n",
       " 'blue',\n",
       " 'peach',\n",
       " 'orange',\n",
       " 'red',\n",
       " 'white',\n",
       " 'green',\n",
       " 'black']"
      ]
     },
     "execution_count": 25,
     "metadata": {},
     "output_type": "execute_result"
    }
   ],
   "source": [
    "#random.sample() will take the sampled value out of the list so it cannot be sampled again. \n",
    "random.sample(colors,k=10) "
   ]
  },
  {
   "cell_type": "markdown",
   "metadata": {},
   "source": [
    "---\n",
    "## Practice Problem\n",
    "For practice see if you can create a roulette wheel simulation using the random module. A roulette wheel has 18 red spaces, 18 black spaces, and 2 green spaces where the ball can land. "
   ]
  },
  {
   "cell_type": "code",
   "execution_count": null,
   "metadata": {},
   "outputs": [],
   "source": [
    "## Write your code here. "
   ]
  },
  {
   "cell_type": "markdown",
   "metadata": {},
   "source": [
    "---\n",
    "We can use the random module and the cumsum() function, which will cumulatively sum a series, to demonstrate how the long run frequency of an event works for rolling a die. "
   ]
  },
  {
   "cell_type": "code",
   "execution_count": 39,
   "metadata": {},
   "outputs": [
    {
     "name": "stdout",
     "output_type": "stream",
     "text": [
      "------------------------------\n",
      "[0, 0, 1, 0, 1, 0, 1, 1, 1, 1]\n",
      "------------------------------\n",
      "[0, 0, 1, 0, 1, 0, 1, 1, 1, 1]\n",
      "------------------------------\n"
     ]
    }
   ],
   "source": [
    "S=[0,1] # sample space of 0 for tails and 1 for heads \n",
    "flips=random.choices(S,k=1000) \n",
    "cumsumFlips=np.cumsum(flips)\n",
    "print(\"-\"*30)\n",
    "print(flips[0:10])\n",
    "print(\"-\"*30)\n",
    "print(list(flips[0:10]))\n",
    "print(\"-\"*30)\n"
   ]
  },
  {
   "cell_type": "code",
   "execution_count": 41,
   "metadata": {},
   "outputs": [
    {
     "name": "stdout",
     "output_type": "stream",
     "text": [
      "------------------------------------------------------------\n",
      "[0, 0, 1, 0, 1]\n",
      "------------------------------------------------------------\n",
      "[0, 0, 1, 1, 2]\n",
      "------------------------------------------------------------\n",
      "[0.         0.         0.33333333 0.25       0.4       ]\n",
      "============================================================\n",
      "------------------------------------------------------------\n",
      "[0, 1, 1, 0, 0]\n",
      "------------------------------------------------------------\n",
      "[494, 495, 496, 496, 496]\n",
      "------------------------------------------------------------\n",
      "[0.49648241 0.49698795 0.49749248 0.49699399 0.4964965 ]\n"
     ]
    }
   ],
   "source": [
    "#if we normalize cumsumFlips by the number of trails we can see what percentage of the flips\n",
    "# have been heads\n",
    "Pheads=cumsumFlips/range(1,len(cumsumFlips)+1)\n",
    "# now lets look at the first 15 flips, and the last 10 flips\n",
    "\n",
    "print(\"-\"*60)\n",
    "print(flips[0:5])\n",
    "print(\"-\"*60)\n",
    "print(list(cumsumFlips[0:5]))\n",
    "print(\"-\"*60)\n",
    "print(Pheads[0:5])\n",
    "\n",
    "print(\"=\"*60)\n",
    "\n",
    "print(\"-\"*60)\n",
    "print(flips[-6:-1])\n",
    "print(\"-\"*60)\n",
    "print(list(cumsumFlips[-6:-1]))\n",
    "print(\"-\"*60)\n",
    "print(Pheads[-6:-1])"
   ]
  },
  {
   "cell_type": "markdown",
   "metadata": {},
   "source": [
    "After the first 5 flips heads had only been flipped 40% of the time, but after 1000 flips we got heads 49.6% of the time. "
   ]
  }
 ],
 "metadata": {
  "kernelspec": {
   "display_name": "Python 3",
   "language": "python",
   "name": "python3"
  },
  "language_info": {
   "codemirror_mode": {
    "name": "ipython",
    "version": 3
   },
   "file_extension": ".py",
   "mimetype": "text/x-python",
   "name": "python",
   "nbconvert_exporter": "python",
   "pygments_lexer": "ipython3",
   "version": "3.7.1"
  }
 },
 "nbformat": 4,
 "nbformat_minor": 2
}
