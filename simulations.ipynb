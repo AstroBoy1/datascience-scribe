{
 "cells": [
  {
   "cell_type": "code",
   "execution_count": 102,
   "metadata": {
    "collapsed": true,
    "slideshow": {
     "slide_type": "skip"
    }
   },
   "outputs": [],
   "source": [
    "import numpy as np\n",
    "import matplotlib.pyplot as plt\n",
    "\n",
    "\n",
    "import random\n",
    "\n",
    "random.seed(123)\n",
    "\n",
    "%matplotlib inline"
   ]
  },
  {
   "cell_type": "markdown",
   "metadata": {
    "slideshow": {
     "slide_type": "slide"
    }
   },
   "source": [
    "# What Place Does Probability Occupy in Data Science?\n",
    "\n",
    "```\n",
    "    A Data scientist is someone who knows more statistics than a computer scientist and more computer science than a statistician. \n",
    "                                           - Joshua Blumenstock\n",
    "```\n",
    "\n",
    "- https://didl.berkeley.edu/"
   ]
  },
  {
   "cell_type": "markdown",
   "metadata": {
    "slideshow": {
     "slide_type": "slide"
    }
   },
   "source": [
    "\n",
    "<img src=\"images/Blumenstock.png\" alt=\"drawing\" style=\"width:500px;\"/>\n",
    "\n"
   ]
  },
  {
   "cell_type": "markdown",
   "metadata": {
    "slideshow": {
     "slide_type": "slide"
    }
   },
   "source": [
    "### Probability Examples in Data Science: A/B Testing\n",
    "\n",
    "\n",
    "* Comparing two versions of a web page to see which one is best for a specific task (ex. Customer conversion, i.e., converting a customer who browses your site to a paying customer)\n",
    "\n",
    "<img src=\"images/what-ab-test.png\" alt=\"drawing\" style=\"width:600px;\"/>\n",
    "\n",
    "\n",
    "* Ideal problem for reasoning in terms of Bayesian statics\n",
    "\n",
    "  * Great for evaluating the probability of business-related events\n",
    "\n",
    "\n",
    "\n"
   ]
  },
  {
   "cell_type": "markdown",
   "metadata": {
    "slideshow": {
     "slide_type": "slide"
    }
   },
   "source": [
    "### Probability Examples in Data Science: Simulation\n",
    "\n",
    "\n",
    "<img src=\"Images/modeling_example.png\" alt=\"drawing\" style=\"width:500px;\"/>\n"
   ]
  },
  {
   "cell_type": "markdown",
   "metadata": {
    "slideshow": {
     "slide_type": "slide"
    }
   },
   "source": [
    "### Definitions\n",
    "\n",
    "* Why do we always start with definitions?\n",
    "\n",
    "\n",
    " ```\n",
    " Give me six hours to chop down a tree and I will spend the first four sharpening the axe.\n",
    " \n",
    "                 - President Abraham Lincoln?\n",
    " \n",
    "```\n",
    "\n",
    "* The analogy is that to solve the problem, we need to sharpen our perspective\n",
    "   * Better understand the problem by recasting it using concepts we can easily define"
   ]
  },
  {
   "cell_type": "markdown",
   "metadata": {
    "slideshow": {
     "slide_type": "slide"
    }
   },
   "source": [
    "### Definitions\n",
    "\n",
    "* Describe concept problem or a solution using existing concepts\n",
    "\n",
    " * Critical for Understanding the essence of the problem without going too thick in the weeds\n",
    "\n",
    "* Definitions use domain specific prose \n",
    "\n",
    "  * In data science definitions can use mathematical symbols\n",
    "\n",
    "<img src=\"Images/hammering_a_nail.png\" alt=\"drawing\" style=\"width:500px;\"/>"
   ]
  },
  {
   "cell_type": "markdown",
   "metadata": {
    "slideshow": {
     "slide_type": "slide"
    }
   },
   "source": [
    "### Experiment\n",
    "\n",
    "* _Experiment_ is a procedure or random process that yields one outcome out of all the possible outcomes of the experiment\n",
    "\n",
    "Some examples of experiments are:\n",
    "\n",
    "  * Rolling a die \n",
    "  \n",
    "  * Counting the number of empty slots in a Biki stand \n",
    "  \n",
    "  * Measuring the weight of a patient in a hospital   \n"
   ]
  },
  {
   "cell_type": "markdown",
   "metadata": {
    "slideshow": {
     "slide_type": "slide"
    }
   },
   "source": [
    "### Sample Space\n",
    "\n",
    "* _Sample Space_ **S** is the exhaustive set of all possible, disjoint outcomes of an experiment \n",
    "\n",
    "  * When rolling a die, it's the finite set ${1, 2, 3, 4, 5, 6}$ \n",
    "  * The number of HTTP requests received by Amazon.com (load balancer)\n",
    "  * When weighing patients in a hospital, it's the continuous infinite set [0.X, Y] pounds.\n",
    "    * Infinite number of values in between\n"
   ]
  },
  {
   "cell_type": "markdown",
   "metadata": {
    "slideshow": {
     "slide_type": "slide"
    }
   },
   "source": [
    "### Sample Space - Cont'd\n",
    "\n",
    "- When sampling from a discrete uniform range [0, 99], the sample space consists of all the integers in that range\n",
    "    \n",
    "- Exploring the sample space for some common discrete experiment requires enumerating (or counting) all possibilities  \n",
    "  - Many counting problems requires understanding and being able to compute __permutations__ and __combination__\n",
    "  - In trivial cases, you can simulate the space of all possible events and subsequently compute the propbability of an event."
   ]
  },
  {
   "cell_type": "markdown",
   "metadata": {
    "slideshow": {
     "slide_type": "slide"
    }
   },
   "source": [
    "### Event \n",
    "\n",
    "- In an experiment, an _event_ **E** represents a subset of the sample space \n",
    "\n",
    "  - The die lands 4  \n",
    "  \n",
    "  - The die lands on its odd side (1, 3 or 5)\n",
    "  \n",
    "  - The number of empty Biki slots is 0 \n",
    "  \n",
    "  - The weight of a patient is higher than 140 Kgs but less than 200 Kgs"
   ]
  },
  {
   "cell_type": "markdown",
   "metadata": {
    "slideshow": {
     "slide_type": "slide"
    }
   },
   "source": [
    "### Probability\n",
    "\n",
    "\n",
    "* Probabilities quantify beliefs. \n",
    "\n",
    "- Used to measure the uncertainty of an event \n",
    "\n",
    "\n",
    "- Ex:\n",
    "\n",
    "  - How likely is a given person to default on a loan?\n",
    "  \n",
    "  - How unlikely is a given person to donate to a fundraising campaign?\n",
    "  \n",
    "  - How likely is a person to contract the flu this season?\n",
    "\n",
    "\n",
    "* Intuitively, we talk of a:\n",
    "\n",
    "  * `null` (0) probability when we know an event cannot occur\n",
    "  \n",
    "  * probability of 1 if an event is certain\n",
    "\n"
   ]
  },
  {
   "cell_type": "markdown",
   "metadata": {
    "slideshow": {
     "slide_type": "slide"
    }
   },
   "source": [
    "### Probability -- Cont'd\n",
    "\n",
    "* Formally, a probability value is a number that quantifies the likelihood of an event and which satisfies the following two properties:\n",
    " \n",
    " $~~~~~~~~~~~~~~0 <= p(s) <= 1$$~~~~~~~~~~~~\\text{and}~~~~~~~~ \\sum\\limits_{s \\in S}{p(s) = 1}$\n",
    "\n",
    "  * Note that this is not a definition of probability (three axioms)\n",
    "\n",
    "* A number that is between 0 a 1 is not necessarily a probability unless the sum of all outcomes in the sample space is 1.\n",
    "\n",
    "* In data analysis, you will most likely assign probabilities to events using probability distributions\n",
    "\n"
   ]
  },
  {
   "cell_type": "markdown",
   "metadata": {
    "slideshow": {
     "slide_type": "slide"
    }
   },
   "source": [
    "### Long run frequencies of  an Event\n",
    "\n",
    "\n",
    "- The concept of long-term is an essential aspect of probability \n",
    "\n",
    "  - In a casino game where your chances of winning are 1 in 10, you are not guaranteed to win if you participate ten times\n",
    "\n",
    "- When flipping a coin -- assuming the coin is unbiased -- we would intuitively expect to observe `in the long run` as many heads as tails, or about 50% heads and 50% tails.\n",
    "\n",
    "  - The probabilities of heads and tails are $p(H)=0.5$ and $p(T)=0.5$ respectively \n",
    "  \n",
    "- We can prove this computationally by generating heads (ones) and tails (zeros) using the `Python random` module."
   ]
  },
  {
   "cell_type": "markdown",
   "metadata": {
    "slideshow": {
     "slide_type": "slide"
    }
   },
   "source": [
    "### The Random Module\n",
    "\n",
    "* Implements a large number of helpful functions that use randomness\n",
    "\n",
    " *  Shuffling, sampling, selecting element form a list, etc.\n",
    "\n",
    "```python\n",
    ">>> print(random.choice([0,1]))\n",
    "0\n",
    ">>> print(random.choice([0,1]))\n",
    "1\n",
    ">>>  print(random.choice([0,1]))\n",
    "0\n",
    "```"
   ]
  },
  {
   "cell_type": "code",
   "execution_count": 253,
   "metadata": {
    "slideshow": {
     "slide_type": "slide"
    }
   },
   "outputs": [],
   "source": [
    "random_trials = []\n",
    "for _ in range(1000):\n",
    "    random_trials.append(random.choice([0,1]))\n",
    "\n",
    "    \n",
    "# Alternatively you can achieve the same goal using list \n",
    "# comprehensions\n",
    "\n",
    "# randomTrials = [random.choice([0,1]) for _ in range(1000)]\n"
   ]
  },
  {
   "cell_type": "markdown",
   "metadata": {
    "slideshow": {
     "slide_type": "slide"
    }
   },
   "source": [
    "### Inspecting the Number of Accumulated Heads \n",
    "\n",
    "* The progression of the number of heads after each iteration can be obtained using the cumulative sum (or `cumsum`). \n",
    "\n",
    "* The cumulative sum for an element at position $a$, where $a > 1$ of an array $X$ is:$~~\\sum_0^a X[a]$\n",
    "\n",
    "* The `cumsum()` function is available through the package `numpy` \n",
    "\n",
    "  * More on `nympy` later"
   ]
  },
  {
   "cell_type": "code",
   "execution_count": 251,
   "metadata": {
    "slideshow": {
     "slide_type": "slide"
    }
   },
   "outputs": [
    {
     "name": "stdout",
     "output_type": "stream",
     "text": [
      "------------------------------\n",
      "[0, 1, 1, 1, 1, 0, 1, 0, 0, 0]\n",
      "------------------------------\n",
      "[0, 1, 2, 3, 4, 4, 5, 5, 5, 5]\n",
      "------------------------------\n"
     ]
    }
   ],
   "source": [
    "cumSumRandomTrials = np.cumsum(randomTrials)\n",
    "\n",
    "    \n",
    "print(\"-\" * 30)\n",
    "print(randomTrials[0:10])\n",
    "print(\"-\" * 30)\n",
    "print(list(cumSumRandomTrials[0:10]))\n",
    "print(\"-\" * 30)"
   ]
  },
  {
   "cell_type": "code",
   "execution_count": 259,
   "metadata": {
    "slideshow": {
     "slide_type": "slide"
    }
   },
   "outputs": [
    {
     "name": "stdout",
     "output_type": "stream",
     "text": [
      "=====================\n",
      "[0, 1, 1, 1, 1]\n",
      "---------------------\n",
      "[0 1 2 3 4]\n",
      "---------------------\n",
      "[0.         0.5        0.66666667 0.75       0.8       ]\n",
      "=====================\n"
     ]
    }
   ],
   "source": [
    "# Let's normalize `cumSumRandomTrials` by the number of trials in each position\n",
    "\n",
    "cumulativePropHeads = cumSumRandomTrials  / range(1, len(cumSumRandomTrials)+1)\n",
    "\n",
    "print(\"=====================\")\n",
    "print(randomTrials[0:5])\n",
    "print(\"---------------------\")\n",
    "print(cumSumRandomTrials[0:5])\n",
    "print(\"---------------------\")\n",
    "print(cumulativePropHeads[0:5])\n",
    "print(\"=====================\")\n",
    "\n"
   ]
  },
  {
   "cell_type": "markdown",
   "metadata": {
    "slideshow": {
     "slide_type": "slide"
    }
   },
   "source": [
    "# Using Matplotlib's Pyplot Module\n",
    "\n",
    "* Matplotlib is a practical plotting package in Python \n",
    "* Pyplot is an interface which provides access to simple plots and functionality\n",
    " * Ex. barplots and histograms\n",
    " * Changing labels on axis and figure size\n",
    " * etc.\n",
    "* Typically called using the `plt` alias\n",
    "\n",
    "```python \n",
    "import matplotlib.pyplot as plt\n",
    "```\n"
   ]
  },
  {
   "cell_type": "code",
   "execution_count": 258,
   "metadata": {
    "slideshow": {
     "slide_type": "slide"
    }
   },
   "outputs": [
    {
     "data": {
      "text/plain": [
       "[<matplotlib.lines.Line2D at 0x1024cd3c8>]"
      ]
     },
     "execution_count": 258,
     "metadata": {},
     "output_type": "execute_result"
    },
    {
     "data": {
      "image/png": "[encoded data removed]",
      "text/plain": [
       "<matplotlib.figure.Figure at 0x112e4d9b0>"
      ]
     },
     "metadata": {},
     "output_type": "display_data"
    }
   ],
   "source": [
    "import matplotlib.pyplot as plt\n",
    "plt.figure(figsize=(14,6))\n",
    "plt.plot([1,2,3,4,5,6], [0,10,0,20,0,30])"
   ]
  },
  {
   "cell_type": "code",
   "execution_count": 256,
   "metadata": {
    "slideshow": {
     "slide_type": "slide"
    }
   },
   "outputs": [
    {
     "data": {
      "text/plain": [
       "<matplotlib.lines.Line2D at 0x112c814e0>"
      ]
     },
     "execution_count": 256,
     "metadata": {},
     "output_type": "execute_result"
    },
    {
     "data": {
      "image/png": "[encoded data removed]",
      "text/plain": [
       "<matplotlib.figure.Figure at 0x113111080>"
      ]
     },
     "metadata": {},
     "output_type": "display_data"
    }
   ],
   "source": [
    "plt.figure(figsize=(12, 8))\n",
    "plt.plot(range(100), cumulativePropHeads[0:100])\n",
    "plt.axhline(0.5, color='k', linestyle= '--', alpha=0.3)"
   ]
  },
  {
   "cell_type": "code",
   "execution_count": 8,
   "metadata": {
    "slideshow": {
     "slide_type": "slide"
    }
   },
   "outputs": [
    {
     "data": {
      "text/plain": [
       "<matplotlib.lines.Line2D at 0x110312e48>"
      ]
     },
     "execution_count": 8,
     "metadata": {},
     "output_type": "execute_result"
    },
    {
     "data": {
      "image/png": "[encoded data removed]",
      "text/plain": [
       "<matplotlib.figure.Figure at 0x11034aba8>"
      ]
     },
     "metadata": {},
     "output_type": "display_data"
    }
   ],
   "source": [
    "plt.figure(figsize=(12, 8))\n",
    "plt.plot(range(len(cumulativePropHeads)), cumulativePropHeads)\n",
    "plt.axhline(0.5, color='k', linestyle= '--', alpha=0.3)"
   ]
  },
  {
   "cell_type": "markdown",
   "metadata": {
    "slideshow": {
     "slide_type": "slide"
    }
   },
   "source": [
    "### Long-Term Frequency\n",
    "\n",
    "* Even after 1,000 draws, the proportion of heads is not exactly 0.5\n",
    "  * A run of 1,000 samples is still just a random sample, and there is no guarantee that the relative frequency in the random sample will match the underlying probability of the event. \n",
    "\n",
    "* However, in the \"much longer run,\" the frequency will tend to approximate $p(H)$ and $p(T)$\n"
   ]
  },
  {
   "cell_type": "markdown",
   "metadata": {
    "slideshow": {
     "slide_type": "slide"
    }
   },
   "source": [
    "### Assigning Probabilities to Events\n",
    "\n",
    "* Probabilities can be:\n",
    "\n",
    "  * Objective (ex. probability of coin flip)\n",
    "\n",
    "  * Subjective (ex. what is the probability that there is life of Mars)\n",
    "    * Occurs mostly because the topic is foreign and/or unclear  \n",
    "\n",
    "* Can you think of naive way to put objectivity on a subjective probability?\n"
   ]
  },
  {
   "cell_type": "markdown",
   "metadata": {
    "collapsed": true,
    "slideshow": {
     "slide_type": "slide"
    }
   },
   "source": [
    "### Probability versus Statistic\n",
    "\n",
    "* The following is useful although perhaps simplistic distinction between probability and statistics\n",
    "\n",
    "* Probability deals with predicting the likelihood of future events, while statistics analyzes the frequency of past events\n",
    "\n",
    "* Probability is a theoretical branch of mathematics with the consequences of definitions, while statistics is applied  mathematics trying to make sense of real-world observations\n"
   ]
  },
  {
   "cell_type": "markdown",
   "metadata": {
    "slideshow": {
     "slide_type": "slide"
    }
   },
   "source": [
    "<img src=\"Images/proba_stats_1.png\" alt=\"drawing\" style=\"width:500px;\"/>\n"
   ]
  },
  {
   "cell_type": "markdown",
   "metadata": {
    "slideshow": {
     "slide_type": "slide"
    }
   },
   "source": [
    "<img src=\"Images/modeling_example.png\" alt=\"drawing\" style=\"width:500px;\"/>"
   ]
  },
  {
   "cell_type": "markdown",
   "metadata": {
    "collapsed": true,
    "slideshow": {
     "slide_type": "slide"
    }
   },
   "source": [
    "### The Underlying Generative Process\n",
    "\n",
    "- Populations are dynamic. How are new members generated?\n",
    "\n",
    "- The generative process summarizes the population as it describes how new members can be \"realized\"\n"
   ]
  },
  {
   "cell_type": "markdown",
   "metadata": {
    "slideshow": {
     "slide_type": "slide"
    }
   },
   "source": [
    "\n",
    "<img src=\"Images/proba_stats_2.png\" alt=\"drawing\" style=\"width:500px;\"/>\n",
    "\n"
   ]
  },
  {
   "cell_type": "markdown",
   "metadata": {
    "slideshow": {
     "slide_type": "slide"
    }
   },
   "source": [
    "### Solving a Probabilistic Problem Using Simulation\n",
    "\n",
    "\n",
    "At some point while learning about probablistics, we're probably concerned about how we can use what we've learned in real life situations.  In this tutorial we're going to use the \"Monty Hall Problem\" as an example to illustrate how probability can be applied in real life situations and some problems we may encounter along the way and potential solutions on how to solve them.\n",
    "\n",
    "Example:  The \"Monty Hall Problem\" is based after the gameshow \"Let's make a Deal\" and is named after the gameshows original host Monty Hall.  The Monty Hall Problem consists of having the player opening one of 3 doors.  2 of the doors have goats behind them and 1 door has a car behind it.  In order to win the player has to pick the door with the car behind it because they really want the car.  However, before opening a door, the player will get to pick one door, and the host, who knows what's behind all the doors will open a door from the remaining doors that has a goat behind it and give the player an option to open the door they've initialy chosen or switch their choice to the other door.\n",
    "\n",
    " \n",
    "```"
   ]
  },
  {
   "cell_type": "markdown",
   "metadata": {
    "slideshow": {
     "slide_type": "slide"
    }
   },
   "source": [
    "<img src=\"Images/monty_hall.jpeg\" alt=\"drawing\" style=\"width:500px;\"/>\n"
   ]
  },
  {
   "cell_type": "markdown",
   "metadata": {
    "slideshow": {
     "slide_type": "slide"
    }
   },
   "source": [
    "<img src=\"Images/monty_hall_2.png\" alt=\"drawing\" style=\"width:500px;\"/>\n",
    "\n",
    "\n"
   ]
  },
  {
   "cell_type": "markdown",
   "metadata": {
    "slideshow": {
     "slide_type": "slide"
    }
   },
   "source": [
    "# Simulate the Problem\n",
    "\n",
    "* Using the power of programming and Python we'll simulate the problem 1000 times to see if the player is more likely to consistently to pick the door with the car behind it by sticking with the strategy of always sticking with their first pick or by switching their choice.  Or, is it a matter of luck and a 50/50 chance to pick the right door.  Below is a method to program this simulation in Python."
   ]
  },
  {
   "cell_type": "code",
   "execution_count": 262,
   "metadata": {
    "slideshow": {
     "slide_type": "slide"
    }
   },
   "outputs": [
    {
     "name": "stdout",
     "output_type": "stream",
     "text": [
      "['GOAT', 'GOAT', 'CAR']\n"
     ]
    }
   ],
   "source": [
    "# creates an array containing 2 Goats and 1 Car and assigns them to variable doors\n",
    "doors = [\"GOAT\", \"CAR\", \"GOAT\"]\n",
    "# shuffles array randomly, possibilities are [\"CAR\", \"GOAT\", \"GOAT\"], [\"GOAT\", \"GOAT\", \"CAR\"], [\"GOAT\", \"CAR\", \"GOAT\"]\n",
    "random.shuffle(doors)\n",
    "# prints an output of what's inside doors for testing purposes\n",
    "print(doors)"
   ]
  },
  {
   "cell_type": "code",
   "execution_count": 33,
   "metadata": {
    "slideshow": {
     "slide_type": "slide"
    }
   },
   "outputs": [
    {
     "data": {
      "text/plain": [
       "1"
      ]
     },
     "execution_count": 33,
     "metadata": {},
     "output_type": "execute_result"
    }
   ],
   "source": [
    "#this line illustrates that we can use the random.choice function to randomly select a position in an array.\n",
    "random.choice([0,1,2])"
   ]
  },
  {
   "cell_type": "code",
   "execution_count": 263,
   "metadata": {
    "slideshow": {
     "slide_type": "slide"
    }
   },
   "outputs": [
    {
     "data": {
      "text/plain": [
       "0"
      ]
     },
     "execution_count": 263,
     "metadata": {},
     "output_type": "execute_result"
    }
   ],
   "source": [
    "#we use the random.choice function to pick a position in a array with 3 items in it and assign it to variable my_pick\n",
    "my_pick = random.choice([0,1,2])\n",
    "my_pick"
   ]
  },
  {
   "cell_type": "code",
   "execution_count": 264,
   "metadata": {
    "slideshow": {
     "slide_type": "slide"
    }
   },
   "outputs": [
    {
     "data": {
      "text/plain": [
       "{1, 2}"
      ]
     },
     "execution_count": 264,
     "metadata": {},
     "output_type": "execute_result"
    }
   ],
   "source": [
    "#the set function can be used to pernamently alter an array.  Difference can be used to remove specific elements from a list.  In this case any number 0's\n",
    "set([0,1,2]).difference([my_pick])"
   ]
  },
  {
   "cell_type": "code",
   "execution_count": 265,
   "metadata": {
    "slideshow": {
     "slide_type": "slide"
    }
   },
   "outputs": [
    {
     "data": {
      "text/plain": [
       "[1, 2]"
      ]
     },
     "execution_count": 265,
     "metadata": {},
     "output_type": "execute_result"
    }
   ],
   "source": [
    "# we randomply use the door picked previously and remove it from an array of available doors\n",
    "remaining_doors = list(set([0,1,2]).difference([my_pick]))\n",
    "remaining_doors"
   ]
  },
  {
   "cell_type": "code",
   "execution_count": 266,
   "metadata": {
    "slideshow": {
     "slide_type": "slide"
    }
   },
   "outputs": [
    {
     "data": {
      "text/plain": [
       "'GOAT'"
      ]
     },
     "execution_count": 266,
     "metadata": {},
     "output_type": "execute_result"
    }
   ],
   "source": [
    "#here we display what the first element is that's left in the list of doors.\n",
    "doors[remaining_doors[0]]\n"
   ]
  },
  {
   "cell_type": "code",
   "execution_count": 267,
   "metadata": {
    "slideshow": {
     "slide_type": "slide"
    }
   },
   "outputs": [
    {
     "data": {
      "text/plain": [
       "'CAR'"
      ]
     },
     "execution_count": 267,
     "metadata": {},
     "output_type": "execute_result"
    }
   ],
   "source": [
    "#here we display what the second element is that's left in the list of doors.\n",
    "doors[remaining_doors[1]]"
   ]
  },
  {
   "cell_type": "code",
   "execution_count": 268,
   "metadata": {
    "slideshow": {
     "slide_type": "slide"
    }
   },
   "outputs": [
    {
     "data": {
      "text/plain": [
       "0"
      ]
     },
     "execution_count": 268,
     "metadata": {},
     "output_type": "execute_result"
    }
   ],
   "source": [
    "#assigns to reveal_door variable 0 if it's a goat or 1 if it's a car left.\n",
    "reveal_door =  0 if doors[remaining_doors[0]] == \"GOAT\" else 1\n",
    "reveal_door"
   ]
  },
  {
   "cell_type": "code",
   "execution_count": 269,
   "metadata": {
    "slideshow": {
     "slide_type": "slide"
    }
   },
   "outputs": [
    {
     "data": {
      "text/plain": [
       "False"
      ]
     },
     "execution_count": 269,
     "metadata": {},
     "output_type": "execute_result"
    }
   ],
   "source": [
    "doors[my_pick] == \"CAR\""
   ]
  },
  {
   "cell_type": "code",
   "execution_count": 270,
   "metadata": {
    "slideshow": {
     "slide_type": "slide"
    }
   },
   "outputs": [],
   "source": [
    "def monty_hall(n=10000, switch=False):\n",
    "    nb_wins = 0 \n",
    "    doors = [\"GOAT\", \"CAR\", \"GOAT\"]\n",
    "    for _ in range(n):\n",
    "        random.shuffle(doors)\n",
    "        my_pick = random.choice([0,1,2])\n",
    "        remaining_doors = list(set([0,1,2]).difference([my_pick]))\n",
    "        reveal_door =  0 if doors[remaining_doors[0]] == \"GOAT\" else 1\n",
    "        if switch:\n",
    "            my_pick = list(set([0,1,2]).difference([my_pick, reveal_door]))[0]\n",
    "        if doors[my_pick] == \"CAR\":\n",
    "            nb_wins += 1\n",
    "    return nb_wins"
   ]
  },
  {
   "cell_type": "code",
   "execution_count": 271,
   "metadata": {
    "slideshow": {
     "slide_type": "slide"
    }
   },
   "outputs": [
    {
     "data": {
      "text/plain": [
       "423"
      ]
     },
     "execution_count": 271,
     "metadata": {},
     "output_type": "execute_result"
    }
   ],
   "source": [
    "monty_hall(n=1000, switch=True)\n"
   ]
  },
  {
   "cell_type": "code",
   "execution_count": 101,
   "metadata": {
    "slideshow": {
     "slide_type": "slide"
    }
   },
   "outputs": [
    {
     "data": {
      "text/plain": [
       "323"
      ]
     },
     "execution_count": 101,
     "metadata": {},
     "output_type": "execute_result"
    }
   ],
   "source": [
    "monty_hall(n=1000, switch=False)"
   ]
  },
  {
   "cell_type": "markdown",
   "metadata": {
    "slideshow": {
     "slide_type": "slide"
    }
   },
   "source": [
    "### Which Strategy is Better\n",
    "\n",
    "\n",
    "A problem with determining which strategy is better using the above code is that the above code is just a simulation run 10k times.  Maybe we just got lucky and things could change later in favor of the other strategy later on.  Another possibility is that our overhead view of the 10k results is misleading and although the end result favors one strategy, a closer up view could speak otherwise.  An example may be that the first 1k runs favor the first strategy, the second 1k runs favor the second strategy the third 1k runs favor the secocnd strategy and there's an alternation per 1k runs from then on, alternating which strateg is favored but ending up with an overhead view of the second strategy being favored from the 10k perspective.  In this scenario this means that the second strategy was not consistently favored despite the 10k overview saying otherwise.\n",
    "\n",
    "One dececnt solution to this problem may be to split our gigantic amount of runs into smaller runs and take the percecntage of times each strategy wins, and check to see if there's a consistency to it.  It's safe to say that as long as a strategy wins the majority of times then we should favor that strategy."
   ]
  },
  {
   "cell_type": "code",
   "execution_count": 273,
   "metadata": {
    "slideshow": {
     "slide_type": "slide"
    }
   },
   "outputs": [],
   "source": [
    "def compare_strategy(n=1_000):\n",
    "    nb_better_occurr = 0\n",
    "    for i in range(n):\n",
    "        if monty_hall(1, switch=True) >= monty_hall(1, switch=False):\n",
    "            nb_better_occurr += 1 \n",
    "    return(nb_better_occurr / n)\n"
   ]
  },
  {
   "cell_type": "code",
   "execution_count": 274,
   "metadata": {
    "slideshow": {
     "slide_type": "slide"
    }
   },
   "outputs": [
    {
     "data": {
      "text/plain": [
       "0.82"
      ]
     },
     "execution_count": 274,
     "metadata": {},
     "output_type": "execute_result"
    }
   ],
   "source": [
    "compare_strategy()"
   ]
  },
  {
   "cell_type": "code",
   "execution_count": 275,
   "metadata": {
    "slideshow": {
     "slide_type": "slide"
    }
   },
   "outputs": [
    {
     "data": {
      "text/plain": [
       "0.815"
      ]
     },
     "execution_count": 275,
     "metadata": {},
     "output_type": "execute_result"
    }
   ],
   "source": [
    "compare_strategy()"
   ]
  },
  {
   "cell_type": "code",
   "execution_count": 145,
   "metadata": {
    "slideshow": {
     "slide_type": "slide"
    }
   },
   "outputs": [
    {
     "data": {
      "text/plain": [
       "[0.812, 0.823, 0.82, 0.811, 0.818, 0.804, 0.82, 0.837, 0.829, 0.822]"
      ]
     },
     "execution_count": 145,
     "metadata": {},
     "output_type": "execute_result"
    }
   ],
   "source": [
    "nb_trials = 1000\n",
    "trials_results = []\n",
    "for _ in range(nb_trials):\n",
    "    trials_results.append(compare_strategy())\n",
    " \n",
    "trails_results[0:10]"
   ]
  },
  {
   "cell_type": "code",
   "execution_count": 147,
   "metadata": {
    "slideshow": {
     "slide_type": "slide"
    }
   },
   "outputs": [
    {
     "data": {
      "image/png": "[encoded data removed]",
      "text/plain": [
       "<matplotlib.figure.Figure at 0x112c0c5f8>"
      ]
     },
     "metadata": {},
     "output_type": "display_data"
    }
   ],
   "source": [
    "_ = plt.hist(trials_results, edgecolor='black', linewidth=1.2)"
   ]
  },
  {
   "cell_type": "markdown",
   "metadata": {
    "slideshow": {
     "slide_type": "slide"
    }
   },
   "source": [
    "### Combinatorial Probabilities\n",
    "\n",
    "So far we've been talking about taking probablities from simple problems where what happens are limited and predictable and forcecd.  However, what happens if choices aren't limited and predictable.  What problems can occur then?  \n",
    "\n",
    "For example, let's take the p\n",
    "\n",
    "* For example, the probability of a person responding to your request to volunteer for testing your software is 0.03\n",
    "  * One out of ~100 people who receive your mailer, three will volunteer for testing your software \n",
    "\n",
    "* What is the probability of having at least 30 people volunteering if you send the 1200 people \n",
    "\n",
    "  * 1200 is your total budgets for mailing\n",
    "  * 30 is the minimum number of testers you are willing to report your VCs (investors)\n"
   ]
  },
  {
   "cell_type": "code",
   "execution_count": 230,
   "metadata": {
    "slideshow": {
     "slide_type": "slide"
    }
   },
   "outputs": [
    {
     "data": {
      "text/plain": [
       "[0, 0, 0]"
      ]
     },
     "execution_count": 230,
     "metadata": {},
     "output_type": "execute_result"
    }
   ],
   "source": [
    "# we encode those who volunteer as 1 and those who don't as 1.\n",
    "# we generate a vector that represents the ration of users likely to volunteer\n",
    "[0] * 3"
   ]
  },
  {
   "cell_type": "code",
   "execution_count": 231,
   "metadata": {
    "slideshow": {
     "slide_type": "slide"
    }
   },
   "outputs": [],
   "source": [
    "# in 100 people, we have\n",
    "population = [0] * 97  + [1] * 3\n"
   ]
  },
  {
   "cell_type": "code",
   "execution_count": null,
   "metadata": {
    "collapsed": true,
    "slideshow": {
     "slide_type": "slide"
    }
   },
   "outputs": [],
   "source": [
    "random.choice()"
   ]
  },
  {
   "cell_type": "code",
   "execution_count": 239,
   "metadata": {
    "slideshow": {
     "slide_type": "slide"
    }
   },
   "outputs": [],
   "source": [
    "# We make some assumption about the populations here\n",
    "# the code below can be easily written using random.choice method in the numpy package\n",
    "\n",
    "def get_random_sample (data, nb_samples):\n",
    "    nb_volunteers = 0 \n",
    "    for _ in range(nb_samples):\n",
    "        nb_volunteers += random.choice(data)\n",
    "    return nb_volunteers\n"
   ]
  },
  {
   "cell_type": "code",
   "execution_count": 240,
   "metadata": {
    "slideshow": {
     "slide_type": "slide"
    }
   },
   "outputs": [
    {
     "data": {
      "text/plain": [
       "48"
      ]
     },
     "execution_count": 240,
     "metadata": {},
     "output_type": "execute_result"
    }
   ],
   "source": [
    "get_random_sample (population, 1200)"
   ]
  },
  {
   "cell_type": "code",
   "execution_count": 241,
   "metadata": {
    "slideshow": {
     "slide_type": "slide"
    }
   },
   "outputs": [
    {
     "name": "stdout",
     "output_type": "stream",
     "text": [
      "0.8203\n"
     ]
    }
   ],
   "source": [
    "# recall that the probability is the long-term proportion with which a certain event will occur \n",
    "# you can repeat the experiment and count the number of time you are satisfied\n",
    "nb_satisfied = 0\n",
    "for i in range(10000):\n",
    "    if get_random_sample(population, 1200) > 30:\n",
    "        nb_satisfied +=1 \n",
    "print(nb_satisfied/10000)"
   ]
  },
  {
   "cell_type": "markdown",
   "metadata": {
    "slideshow": {
     "slide_type": "slide"
    }
   },
   "source": [
    "### Probability Models\n",
    "\n",
    "* There are much easier ways compute this and other popular (canonical) distributions\n",
    "\n",
    "* Parameterized function, which given a parameter, can easily compute the probability  of any outcome in the sample space\n",
    "\n",
    "  *  Those are called probability distributions"
   ]
  }
 ],
 "metadata": {
  "celltoolbar": "Slideshow",
  "hide_input": false,
  "kernelspec": {
   "display_name": "Python 3",
   "language": "python",
   "name": "python3"
  },
  "language_info": {
   "codemirror_mode": {
    "name": "ipython",
    "version": 3
   },
   "file_extension": ".py",
   "mimetype": "text/x-python",
   "name": "python",
   "nbconvert_exporter": "python",
   "pygments_lexer": "ipython3",
   "version": "3.7.1"
  }
 },
 "nbformat": 4,
 "nbformat_minor": 2
}
