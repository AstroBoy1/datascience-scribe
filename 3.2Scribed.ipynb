{
 "cells": [
  {
   "cell_type": "code",
   "execution_count": 2,
   "metadata": {
    "slideshow": {
     "slide_type": "skip"
    }
   },
   "outputs": [],
   "source": [
    "import numpy as np\n",
    "import matplotlib.pyplot as plt\n",
    "\n",
    "\n",
    "import random\n",
    "\n",
    "random.seed(123)\n",
    "\n",
    "%matplotlib inline"
   ]
  },
  {
   "cell_type": "markdown",
   "metadata": {
    "slideshow": {
     "slide_type": "slide"
    }
   },
   "source": [
    "# What Place Does Probability Occupy in Data Science?\n",
    "\n",
    "```\n",
    "    A Data scientist is someone who knows more statistics than a computer scientist and more computer science than a statistician. \n",
    "                                           - Joshua Blumenstock\n",
    "```\n",
    "\n",
    "- https://didl.berkeley.edu/"
   ]
  },
  {
   "cell_type": "markdown",
   "metadata": {
    "slideshow": {
     "slide_type": "slide"
    }
   },
   "source": [
    "\n",
    "<img src=\"images/Blumenstock.png\" alt=\"drawing\" style=\"width:500px;\"/>\n",
    "\n"
   ]
  },
  {
   "cell_type": "markdown",
   "metadata": {
    "slideshow": {
     "slide_type": "slide"
    }
   },
   "source": [
    "### Probability Examples in Data Science: A/B Testing\n",
    "\n",
    "\n",
    "* Comparing two versions of a web page to see which one is best for a specific task (ex. Customer conversion, i.e., converting a customer who browses your site to a paying customer)\n",
    "\n",
    "<img src=\"images/what-ab-test.png\" alt=\"drawing\" style=\"width:600px;\"/>\n",
    "\n",
    "\n",
    "* Ideal problem for reasoning in terms of Bayesian statics\n",
    "\n",
    "  * Great for evaluating the probability of business-related events\n",
    "\n",
    "\n",
    "\n"
   ]
  },
  {
   "cell_type": "markdown",
   "metadata": {
    "slideshow": {
     "slide_type": "slide"
    }
   },
   "source": [
    "### Probability Examples in Data Science: Simulation\n",
    "\n",
    "\n",
    "<img src=\"Images/modeling_example.png\" alt=\"drawing\" style=\"width:500px;\"/>\n"
   ]
  },
  {
   "cell_type": "markdown",
   "metadata": {
    "slideshow": {
     "slide_type": "slide"
    }
   },
   "source": [
    "### Definitions\n",
    "\n",
    "* Why do we always start with definitions?\n",
    "\n",
    "\n",
    " ```\n",
    " Give me six hours to chop down a tree and I will spend the first four sharpening the axe.\n",
    " \n",
    "                 - President Abraham Lincoln?\n",
    " \n",
    "```\n",
    "\n",
    "* The analogy is that to solve the problem, we need to sharpen our perspective\n",
    "   * Better understand the problem by recasting it using concepts we can easily define"
   ]
  },
  {
   "cell_type": "markdown",
   "metadata": {
    "slideshow": {
     "slide_type": "slide"
    }
   },
   "source": [
    "### Definitions\n",
    "\n",
    "* Describe concept problem or a solution using existing concepts\n",
    "\n",
    " * Critical for Understanding the essence of the problem without going too thick in the weeds\n",
    "\n",
    "* Definitions use domain specific prose \n",
    "\n",
    "  * In data science definitions can use mathematical symbols\n",
    "\n",
    "<img src=\"Images/hammering_a_nail.png\" alt=\"drawing\" style=\"width:500px;\"/>"
   ]
  },
  {
   "cell_type": "markdown",
   "metadata": {
    "slideshow": {
     "slide_type": "slide"
    }
   },
   "source": [
    "### Experiment\n",
    "\n",
    "* _Experiment_ is a procedure or random process that yields one outcome out of all the possible outcomes of the experiment\n",
    "\n",
    "Some examples of experiments are:\n",
    "\n",
    "  * Rolling a die \n",
    "  \n",
    "  * Counting the number of empty slots in a Biki stand \n",
    "  \n",
    "  * Measuring the weight of a patient in a hospital   \n"
   ]
  },
  {
   "cell_type": "markdown",
   "metadata": {
    "slideshow": {
     "slide_type": "slide"
    }
   },
   "source": [
    "### Sample Space\n",
    "\n",
    "* _Sample Space_ **S** is the exhaustive set of all possible, disjoint outcomes of an experiment \n",
    "\n",
    "  * When rolling a die, it's the finite set ${1, 2, 3, 4, 5, 6}$ \n",
    "  * The number of HTTP requests received by Amazon.com (load balancer)\n",
    "  * When weighing patients in a hospital, it's the continuous infinite set [0.X, Y] pounds.\n",
    "    * Infinite number of values in between\n"
   ]
  },
  {
   "cell_type": "markdown",
   "metadata": {
    "slideshow": {
     "slide_type": "slide"
    }
   },
   "source": [
    "### Sample Space - Cont'd\n",
    "\n",
    "- When sampling from a discrete uniform range [0, 99], the sample space consists of all the integers in that range\n",
    "    \n",
    "- Exploring the sample space for some common discrete experiment requires enumerating (or counting) all possibilities  \n",
    "  - Many counting problems requires understanding and being able to compute __permutations__ and __combination__\n",
    "  - In trivial cases, you can simulate the space of all possible events and subsequently compute the propbability of an event."
   ]
  },
  {
   "cell_type": "markdown",
   "metadata": {
    "slideshow": {
     "slide_type": "slide"
    }
   },
   "source": [
    "### Event \n",
    "\n",
    "- In an experiment, an _event_ **E** represents a subset of the sample space \n",
    "\n",
    "  - The die lands 4  \n",
    "  \n",
    "  - The die lands on its odd side (1, 3 or 5)\n",
    "  \n",
    "  - The number of empty Biki slots is 0 \n",
    "  \n",
    "  - The weight of a patient is higher than 140 Kgs but less than 200 Kgs"
   ]
  },
  {
   "cell_type": "markdown",
   "metadata": {
    "slideshow": {
     "slide_type": "slide"
    }
   },
   "source": [
    "### Probability\n",
    "\n",
    "\n",
    "* Probabilities quantify beliefs. \n",
    "\n",
    "- Used to measure the uncertainty of an event \n",
    "\n",
    "\n",
    "- Ex:\n",
    "\n",
    "  - How likely is a given person to default on a loan?\n",
    "  \n",
    "  - How unlikely is a given person to donate to a fundraising campaign?\n",
    "  \n",
    "  - How likely is a person to contract the flu this season?\n",
    "\n",
    "\n",
    "* Intuitively, we talk of a:\n",
    "\n",
    "  * `null` (0) probability when we know an event cannot occur\n",
    "  \n",
    "  * probability of 1 if an event is certain\n",
    "\n"
   ]
  },
  {
   "cell_type": "markdown",
   "metadata": {
    "slideshow": {
     "slide_type": "slide"
    }
   },
   "source": [
    "### Probability -- Cont'd\n",
    "\n",
    "* Formally, a probability value is a number that quantifies the likelihood of an event and which satisfies the following two properties:\n",
    " \n",
    " $~~~~~~~~~~~~~~0 <= p(s) <= 1$$~~~~~~~~~~~~\\text{and}~~~~~~~~ \\sum\\limits_{s \\in S}{p(s) = 1}$\n",
    "\n",
    "  * Note that this is not a definition of probability (three axioms)\n",
    "\n",
    "* A number that is between 0 a 1 is not necessarily a probability unless the sum of all outcomes in the sample space is 1.\n",
    "\n",
    "* In data analysis, you will most likely assign probabilities to events using probability distributions\n",
    "\n"
   ]
  },
  {
   "cell_type": "markdown",
   "metadata": {
    "slideshow": {
     "slide_type": "slide"
    }
   },
   "source": [
    "### Long run frequencies of  an Event\n",
    "\n",
    "\n",
    "- The concept of long-term is an essential aspect of probability \n",
    "\n",
    "  - In a casino game where your chances of winning are 1 in 10, you are not guaranteed to win if you participate ten times\n",
    "\n",
    "- When flipping a coin -- assuming the coin is unbiased -- we would intuitively expect to observe `in the long run` as many heads as tails, or about 50% heads and 50% tails.\n",
    "\n",
    "  - The probabilities of heads and tails are $p(H)=0.5$ and $p(T)=0.5$ respectively \n",
    "  \n",
    "- We can prove this computationally by generating heads (ones) and tails (zeros) using the `Python random` module."
   ]
  },
  {
   "cell_type": "markdown",
   "metadata": {
    "slideshow": {
     "slide_type": "slide"
    }
   },
   "source": [
    "### The Random Module\n",
    "\n",
    "* Implements a large number of helpful functions that use randomness\n",
    "\n",
    " *  Shuffling, sampling, selecting element form a list, etc.\n",
    "\n",
    "```python\n",
    ">>> print(random.choice([0,1]))\n",
    "0\n",
    ">>> print(random.choice([0,1]))\n",
    "1\n",
    ">>>  print(random.choice([0,1]))\n",
    "0\n",
    "```"
   ]
  },
  {
   "cell_type": "code",
   "execution_count": 12,
   "metadata": {
    "slideshow": {
     "slide_type": "slide"
    }
   },
   "outputs": [],
   "source": [
    "randomTrials = []\n",
    "for _ in range(1000):\n",
    "    randomTrials.append(random.choice([0,1]))\n",
    "\n",
    "    \n",
    "# Alternatively you can achieve the same goal using list \n",
    "# comprehensions\n",
    "\n",
    "# randomTrials = [random.choice([0,1]) for _ in range(1000)]\n"
   ]
  },
  {
   "cell_type": "markdown",
   "metadata": {
    "slideshow": {
     "slide_type": "slide"
    }
   },
   "source": [
    "### Inspecting the Number of Accumulated Heads \n",
    "\n",
    "* The progression of the number of heads after each iteration can be obtained using the cumulative sum (or `cumsum`). \n",
    "\n",
    "* The cumulative sum for an element at position $a$, where $a > 1$ of an array $X$ is:$~~\\sum_0^a X[a]$\n",
    "\n",
    "* The `cumsum()` function is available through the package `numpy` \n",
    "\n",
    "  * More on `nympy` later"
   ]
  },
  {
   "cell_type": "code",
   "execution_count": 20,
   "metadata": {
    "slideshow": {
     "slide_type": "slide"
    }
   },
   "outputs": [
    {
     "name": "stdout",
     "output_type": "stream",
     "text": [
      "------------------------------\n",
      "[0, 0, 1, 0, 1, 0, 1, 1, 1, 0]\n",
      "------------------------------\n",
      "[0, 0, 1, 1, 2, 2, 3, 4, 5, 5]\n",
      "------------------------------\n"
     ]
    }
   ],
   "source": [
    "cumSumRandomTrials = np.cumsum(randomTrials)\n",
    "\n",
    "    \n",
    "print(\"-\" * 30)\n",
    "print(randomTrials[0:10])\n",
    "print(\"-\" * 30)\n",
    "print(list(cumSumRandomTrials[0:10]))\n",
    "print(\"-\" * 30)"
   ]
  },
  {
   "cell_type": "code",
   "execution_count": 21,
   "metadata": {
    "slideshow": {
     "slide_type": "slide"
    }
   },
   "outputs": [
    {
     "name": "stdout",
     "output_type": "stream",
     "text": [
      "=====================\n",
      "[0, 0, 1, 0, 1]\n",
      "---------------------\n",
      "[0 0 1 1 2]\n",
      "---------------------\n",
      "[0.         0.         0.33333333 0.25       0.4       ]\n",
      "=====================\n"
     ]
    }
   ],
   "source": [
    "# Let's normalize `cumSumRandomTrials` by the number of trials in each position\n",
    "\n",
    "cumulativePropHeads = cumSumRandomTrials  / range(1, len(cumSumRandomTrials)+1)\n",
    "\n",
    "print(\"=====================\")\n",
    "print(randomTrials[0:5])\n",
    "print(\"---------------------\")\n",
    "print(cumSumRandomTrials[0:5])\n",
    "print(\"---------------------\")\n",
    "print(cumulativePropHeads[0:5])\n",
    "print(\"=====================\")\n",
    "\n"
   ]
  },
  {
   "cell_type": "code",
   "execution_count": 13,
   "metadata": {
    "slideshow": {
     "slide_type": "notes"
    }
   },
   "outputs": [
    {
     "data": {
      "text/plain": [
       "'Jonathan'"
      ]
     },
     "execution_count": 13,
     "metadata": {},
     "output_type": "execute_result"
    }
   ],
   "source": [
    "\"Jonathan\""
   ]
  },
  {
   "cell_type": "markdown",
   "metadata": {
    "slideshow": {
     "slide_type": "slide"
    }
   },
   "source": [
    "# What Place Does Probability Occupy in Data Science\n",
    "\n",
    "    A data scientist is someone who knows more statistics than a computer scientist and more computer science than a statistician. \n",
    "                - Joshua Blumenstock\n",
    "---\n",
    "\n",
    "## Probability Examples in Data Science: A/B Testing\n",
    "\n",
    "   One example of how data scientists use probability is in A/B testing. A/B testing is a simple experiment that examines two versions of something, to see which version of it performs better. This can be used with anything, which color of a t-shirt sells better, which style of ad leads to more purchases, or what version of a website translates to more traffic. Because a lot of data is needed for the results to be meaningful, A/B testing is mainly used in online applications to optimize website and online ad performance. The way that A/B testing works is you show show version A of an ad to half of the people, version B of the ad to the other half of the people, and see which version of the ad has a higher probability of getting people to click on it.\n",
    "   \n",
    "## Probability Examples in Data Science: Simulations\n",
    "\n",
    "   If you don't have data you can simulate the problem to generate data and answer questions. If there are two types of ads on YouTube, skippable ads which are cheaper and unskippable ads which are more expensive, and we want to know which one is the better purchase we can create a simulation to solve this problem. For each type of ad there is a probability that a user will click on it. After the ad has been clicked there is some probability that the user will make a purchase. If we have some rough idea of the probabilities that users will click on each type of add, and then make purchases, and a rough idea of how much people spend when they make a purchase, we can create a simulation of the situation to generate data that can be used to evaluate the best type of ad for the money.\n",
    "    \n",
    "    \n",
    "## Definitions\n",
    "\n",
    "**Experiment**: An experiment is an operation or procedure carried out under controlled conditions in order to discover an unknown effect or law. To test or establish a hypothesis, or to illustrate a known law. \n",
    "    - Merrium Webster Dictionary\n",
    "\n",
    "A/B testing is an example of an experiment. \n",
    "    \n",
    "**Sample Space**: A sample space is a collection of all possible outcomes of a random experiment. A Sample space may be continuous or discrete. \n",
    "    - Merrium Webster Dictionary\n",
    "\n",
    "Sample space is usually denoted as S. For a coin flip the sample space is (H,T) where H is heads, and T is tails. For a roll of a die the sample space is (1,2,3,4,5,6). If we flip two coins then the sample space is [(H,H), (H,T), (T,H), (T,T)]. These are all examples of discrete sample spaces. A discrete sample space means that there are a finite amount of outcomes of an experiment. We can can also have a continuous sample space. For example the sample space of the heights of basketball players is continuous. There is a lower and upper limit to the possible heights, but in between those values thare are an infinte number of possible heights. \n",
    "\n",
    "**Event**: An event is a subset of the possible outcomes of an experiment. \n",
    "    - Merrium Webster Dictionary\n",
    "\n",
    "An event is usually denoted as E. Following the examples of sample spaces above, for a coin flip heads would be a possible event. For two coins heads,tails would be an event. A basketball player who is 6' tall would be an event. \n",
    "\n",
    "**Probability**: Probability is the ratio of the number of outcomes in an exhastive set of equally likely outcomes that produce a given event to the total number of possible outcomes. A logical relation between statements such that the evidence comfirming one confirms the other to some degree. \n",
    "    - Merrium Webster Dictionary\n",
    "    \n",
    "The probability of all the events must sum to one. If the probability is 1 it is a certainty, if the probability is 0 then the event cannot occur. \n",
    "\n",
    "To calculate the probability of an event in a discrete sample space, all you have to do is count the number of times the event is in the sample space and divide by the total number of events in the sample space. For example if we have a bag of 10 skittles with 3 yellow skittles, 2 purple skittles, 4 red skittles, and 1 green skittle, then we would have a sample space of { y, y, y, p, p, r, r, r, r, g}. If we want to know the probability of picking a purple skittle then we can count the number of purple skittles, and divide by the total number of skittles in the smaple space to get 2/10 or a 20% probability of picking a purple skittle. \n",
    "\n",
    "For continuous sample sets it starts to get more complicated because we have an infinte amount of possible events in the sample space. The probability of a basketball player being exactly 6' tall is almost zero because there are an infinite amount of possible heights that the player could be. So instead we say what is the probability that the basketball player is 6' with a tolerance of .1 inches? To calculate the probability we need to have data about NBA players heights so we can get probability density functon. Once we have a probability density function (pdf) we can integrate the pdf fomr 5.9' to 6.1'.  \n",
    "\n",
    "$$P(X=6)=\\int_{5.9}^{6.1}f(x)dx$$\n",
    "\n",
    "**Long Run Frequencies of an Event**: If the probability of an event occuring is 1 in 6 that doesn't necessarily mean that if you run the experiment 6 times you are gauranteed to get that result. It is possible to roll a die 6 times and never roll a 1, but if you continue to roll that die 1000 or 10000 more times eventually you will see that you rolled a 1 1/6th of the time. When we talk about probability we are talking about the long run frequency of an event. \n",
    "\n",
    "## Python's Random Module\n",
    "\n",
    "The random module in python allows us to create random numbers, randomly shuffle a list, randomly sample from a probability distrubution, and many other things. If you want your random numbers to stay the same you need to set the random.seed(). \n"
   ]
  },
  {
   "cell_type": "code",
   "execution_count": 11,
   "metadata": {
    "slideshow": {
     "slide_type": "slide"
    }
   },
   "outputs": [
    {
     "name": "stdout",
     "output_type": "stream",
     "text": [
      "0.10983859761388659\n",
      "50.27240680027401\n",
      "10\n"
     ]
    }
   ],
   "source": [
    "# you can use random.random() to create a random float between 0 and 1\n",
    "a=random.random()\n",
    "print(a)\n",
    "\n",
    "# if you want a random float that is larger than one you can use random.uniform()\n",
    "b = random.uniform(1,100)\n",
    "print(b)\n",
    "\n",
    "#if you want a random int you can use random.randint()\n",
    "c=random.randint(1,15)\n",
    "print(c)\n",
    "# both the 1 and the 15 are inclusive"
   ]
  },
  {
   "cell_type": "code",
   "execution_count": 4,
   "metadata": {
    "slideshow": {
     "slide_type": "slide"
    }
   },
   "outputs": [
    {
     "data": {
      "text/plain": [
       "'blue'"
      ]
     },
     "execution_count": 4,
     "metadata": {},
     "output_type": "execute_result"
    }
   ],
   "source": [
    "# you can use random.choice() to randomly select an element of a list\n",
    "\n",
    "colors=['red','orange','yellow', 'green','blue','indigo', 'violot', 'peach', 'black', 'white']\n",
    "random.choice(colors)"
   ]
  },
  {
   "cell_type": "code",
   "execution_count": 5,
   "metadata": {
    "slideshow": {
     "slide_type": "slide"
    }
   },
   "outputs": [
    {
     "data": {
      "text/plain": [
       "['orange',\n",
       " 'white',\n",
       " 'red',\n",
       " 'indigo',\n",
       " 'green',\n",
       " 'black',\n",
       " 'orange',\n",
       " 'green',\n",
       " 'green',\n",
       " 'yellow']"
      ]
     },
     "execution_count": 5,
     "metadata": {},
     "output_type": "execute_result"
    }
   ],
   "source": [
    "# if you want more than one random element from the list you can use random.choices()\n",
    "random.choices(colors,k=10) #k is the number of random samples that you want"
   ]
  },
  {
   "cell_type": "code",
   "execution_count": 6,
   "metadata": {
    "slideshow": {
     "slide_type": "slide"
    }
   },
   "outputs": [
    {
     "data": {
      "text/plain": [
       "['red',\n",
       " 'green',\n",
       " 'orange',\n",
       " 'indigo',\n",
       " 'orange',\n",
       " 'yellow',\n",
       " 'blue',\n",
       " 'black',\n",
       " 'orange',\n",
       " 'orange']"
      ]
     },
     "execution_count": 6,
     "metadata": {},
     "output_type": "execute_result"
    }
   ],
   "source": [
    "# you can weight the random choices as well. \n",
    "random.choices(colors,weights=[5,10,20,5,5,15,15,5,6,4],k=10) \n",
    "\n",
    "# In this example the weights list add to 100 for simplicity. The way it works is it adds \n",
    "#up all the all the values in the weights list, and then the probability of each element \n",
    "#is the value of that element/total. So for the color red the weight is 5. 5/100 is 5% so \n",
    "#it has a 5% probability of being selected"
   ]
  },
  {
   "cell_type": "code",
   "execution_count": 7,
   "metadata": {
    "slideshow": {
     "slide_type": "slide"
    }
   },
   "outputs": [
    {
     "data": {
      "text/plain": [
       "['red',\n",
       " 'blue',\n",
       " 'violot',\n",
       " 'black',\n",
       " 'green',\n",
       " 'yellow',\n",
       " 'indigo',\n",
       " 'white',\n",
       " 'orange',\n",
       " 'peach']"
      ]
     },
     "execution_count": 7,
     "metadata": {},
     "output_type": "execute_result"
    }
   ],
   "source": [
    "#random.sample() will take the sampled value out of the list so it cannot be sampled again. \n",
    "random.sample(colors,k=10) "
   ]
  },
  {
   "cell_type": "markdown",
   "metadata": {
    "slideshow": {
     "slide_type": "slide"
    }
   },
   "source": [
    "\n",
    "For practice see if you can create a roulette wheel simulation using the random module. A roulette wheel has 18 red spaces, 18 black spaces, and 2 green spaces where the ball can land. "
   ]
  },
  {
   "cell_type": "markdown",
   "metadata": {
    "slideshow": {
     "slide_type": "slide"
    }
   },
   "source": [
    "## Write your code here. "
   ]
  },
  {
   "cell_type": "markdown",
   "metadata": {
    "slideshow": {
     "slide_type": "slide"
    }
   },
   "source": [
    "\n",
    "We can use the random module and the cumsum() function, which will cumulatively sum a series, to demonstrate how the long run frequency of an event works for rolling a die."
   ]
  },
  {
   "cell_type": "code",
   "execution_count": 8,
   "metadata": {
    "slideshow": {
     "slide_type": "slide"
    }
   },
   "outputs": [
    {
     "name": "stdout",
     "output_type": "stream",
     "text": [
      "------------------------------\n",
      "[1, 0, 1, 1, 1, 1, 0, 1, 1, 0]\n",
      "------------------------------\n",
      "[1, 0, 1, 1, 1, 1, 0, 1, 1, 0]\n",
      "------------------------------\n"
     ]
    }
   ],
   "source": [
    "S=[0,1] # sample space of 0 for tails and 1 for heads \n",
    "flips=random.choices(S,k=1000) \n",
    "cumsumFlips=np.cumsum(flips)\n",
    "print(\"-\"*30)\n",
    "print(flips[0:10])\n",
    "print(\"-\"*30)\n",
    "print(list(flips[0:10]))\n",
    "print(\"-\"*30)\n"
   ]
  },
  {
   "cell_type": "code",
   "execution_count": 9,
   "metadata": {
    "slideshow": {
     "slide_type": "slide"
    }
   },
   "outputs": [
    {
     "name": "stdout",
     "output_type": "stream",
     "text": [
      "------------------------------------------------------------\n",
      "[1, 0, 1, 1, 1]\n",
      "------------------------------------------------------------\n",
      "[1, 1, 2, 3, 4]\n",
      "------------------------------------------------------------\n",
      "[1.         0.5        0.66666667 0.75       0.8       ]\n",
      "============================================================\n",
      "------------------------------------------------------------\n",
      "[1, 0, 0, 0, 0]\n",
      "------------------------------------------------------------\n",
      "[501, 501, 501, 501, 501]\n",
      "------------------------------------------------------------\n",
      "[0.50351759 0.50301205 0.50250752 0.50200401 0.5015015 ]\n"
     ]
    }
   ],
   "source": [
    "#if we normalize cumsumFlips by the number of trails we can see what percentage of the flips\n",
    "# have been heads\n",
    "Pheads=cumsumFlips/range(1,len(cumsumFlips)+1)\n",
    "# now lets look at the first 15 flips, and the last 10 flips\n",
    "\n",
    "print(\"-\"*60)\n",
    "print(flips[0:5])\n",
    "print(\"-\"*60)\n",
    "print(list(cumsumFlips[0:5]))\n",
    "print(\"-\"*60)\n",
    "print(Pheads[0:5])\n",
    "\n",
    "print(\"=\"*60)\n",
    "\n",
    "print(\"-\"*60)\n",
    "print(flips[-6:-1])\n",
    "print(\"-\"*60)\n",
    "print(list(cumsumFlips[-6:-1]))\n",
    "print(\"-\"*60)\n",
    "print(Pheads[-6:-1])"
   ]
  },
  {
   "cell_type": "markdown",
   "metadata": {
    "slideshow": {
     "slide_type": "slide"
    }
   },
   "source": [
    "After the first 5 flips heads had only been flipped 80% of the time, but after 1000 flips we got heads 50% of the time. "
   ]
  },
  {
   "cell_type": "markdown",
   "metadata": {
    "slideshow": {
     "slide_type": "notes"
    }
   },
   "source": [
    "Michael"
   ]
  },
  {
   "cell_type": "markdown",
   "metadata": {
    "slideshow": {
     "slide_type": "slide"
    }
   },
   "source": [
    "# Using Matplotlib's Pyplot Module\n",
    "\n",
    "* Matplotlib is a practical plotting package in Python \n",
    "* Pyplot is an interface similar to the Matlab interface, which provides access to simple plots and functionality\n",
    " * Ex. barplots and histograms\n",
    " * Changing labels on axis and figure size\n",
    " * etc.\n",
    "* Typically called using the `plt` alias\n",
    "* Matplotlib can also be used for power spectra, bar charts, error charts, scatter plots, 3d plotting, etc. Most of the plot objects can be controlled such as line styles, font properties, and axes properties.\n",
    "```python \n",
    "import matplotlib.pyplot as plt\n",
    "```\n"
   ]
  },
  {
   "cell_type": "markdown",
   "metadata": {
    "slideshow": {
     "slide_type": "slide"
    }
   },
   "source": [
    "Below is the anatomy of a figure taken from https://matplotlib.org/tutorials/introductory/usage.html#sphx-glr-tutorials-introductory-usage-py\n",
    "Axes: The \"plot\", which the figure can contain multiple of, can include limits, titles, and labels.\n",
    "Axis: Number-line objects determined by locator and formatter objects which tune tick location and labels\n",
    "Artist: An object that essentially encapsulates everything in the figure: text, axes, lines, collections, etc."
   ]
  },
  {
   "cell_type": "markdown",
   "metadata": {},
   "source": [
    "<img src=\"figure_anatomy.jpg\" width=\"500\">"
   ]
  },
  {
   "cell_type": "markdown",
   "metadata": {
    "slideshow": {
     "slide_type": "slide"
    }
   },
   "source": [
    "Some examples shown below:"
   ]
  },
  {
   "cell_type": "code",
   "execution_count": 3,
   "metadata": {
    "slideshow": {
     "slide_type": "slide"
    }
   },
   "outputs": [
    {
     "data": {
      "text/plain": [
       "Text(0.5, 1.0, 'Line Chart')"
      ]
     },
     "execution_count": 3,
     "metadata": {},
     "output_type": "execute_result"
    },
    {
     "data": {
      "image/png": "[encoded data removed]",
      "text/plain": [
       "<Figure size 1008x432 with 1 Axes>"
      ]
     },
     "metadata": {},
     "output_type": "display_data"
    }
   ],
   "source": [
    "import matplotlib.pyplot as plt\n",
    "plt.figure(figsize=(14,6))\n",
    "xlist = [1,2,3,4,5,6]\n",
    "ylist = [0,10,0,20,0,30]\n",
    "plt.plot(xlist, ylist)\n",
    "plt.title(\"Line Chart\")"
   ]
  },
  {
   "cell_type": "code",
   "execution_count": 30,
   "metadata": {
    "slideshow": {
     "slide_type": "slide"
    }
   },
   "outputs": [
    {
     "data": {
      "text/plain": [
       "Text(0.5, 1.0, 'Scatter plot')"
      ]
     },
     "execution_count": 30,
     "metadata": {},
     "output_type": "execute_result"
    },
    {
     "data": {
      "image/png": "[encoded data removed]",
      "text/plain": [
       "<Figure size 1008x432 with 1 Axes>"
      ]
     },
     "metadata": {},
     "output_type": "display_data"
    }
   ],
   "source": [
    "plt.figure(figsize=(14,6))\n",
    "plt.plot(xlist, ylist, 'ro')\n",
    "plt.title(\"Scatter plot\")"
   ]
  },
  {
   "cell_type": "code",
   "execution_count": 40,
   "metadata": {
    "slideshow": {
     "slide_type": "slide"
    }
   },
   "outputs": [
    {
     "data": {
      "text/plain": [
       "Text(0.5, 1.0, 'Proportion of heads vs. # of flips')"
      ]
     },
     "execution_count": 40,
     "metadata": {},
     "output_type": "execute_result"
    },
    {
     "data": {
      "image/png": "[encoded data removed]",
      "text/plain": [
       "<Figure size 864x576 with 1 Axes>"
      ]
     },
     "metadata": {},
     "output_type": "display_data"
    }
   ],
   "source": [
    "plt.figure(figsize=(12, 8))\n",
    "plt.plot(range(100), cumulativePropHeads[0:100])\n",
    "plt.ylim(0, 1)\n",
    "plt.axhline(0.5, color='k', linestyle= '--', alpha=0.3)\n",
    "plt.title(\"Proportion of heads vs. # of flips\")"
   ]
  },
  {
   "cell_type": "code",
   "execution_count": 41,
   "metadata": {
    "slideshow": {
     "slide_type": "slide"
    }
   },
   "outputs": [
    {
     "data": {
      "text/plain": [
       "Text(0.5, 1.0, 'Proportion of head vs. # of flips (1000)')"
      ]
     },
     "execution_count": 41,
     "metadata": {},
     "output_type": "execute_result"
    },
    {
     "data": {
      "image/png": "[encoded data removed]",
      "text/plain": [
       "<Figure size 864x576 with 1 Axes>"
      ]
     },
     "metadata": {},
     "output_type": "display_data"
    }
   ],
   "source": [
    "plt.figure(figsize=(12, 8))\n",
    "plt.plot(range(len(cumulativePropHeads)), cumulativePropHeads)\n",
    "plt.ylim(0, 1)\n",
    "plt.axhline(0.5, color='k', linestyle= '--', alpha=0.3)\n",
    "plt.title(\"Proportion of head vs. # of flips (1000)\")"
   ]
  },
  {
   "cell_type": "markdown",
   "metadata": {
    "slideshow": {
     "slide_type": "slide"
    }
   },
   "source": [
    "## Subplots"
   ]
  },
  {
   "cell_type": "markdown",
   "metadata": {},
   "source": [
    "A figure represents the entire window in the UI and there can be subplots in each figure. Figures are created by default, but can be specified too. Subplots contain grids, axes, and placement control. They are useful for plotting multiple graphs and sharing the figure properties."
   ]
  },
  {
   "cell_type": "code",
   "execution_count": 42,
   "metadata": {
    "slideshow": {
     "slide_type": "slide"
    }
   },
   "outputs": [
    {
     "data": {
      "text/plain": [
       "Text(0.5, 1.0, 'Proportion of tails vs. # of flips (1000)')"
      ]
     },
     "execution_count": 42,
     "metadata": {},
     "output_type": "execute_result"
    },
    {
     "data": {
      "image/png": "[encoded data removed]",
      "text/plain": [
       "<Figure size 864x576 with 2 Axes>"
      ]
     },
     "metadata": {},
     "output_type": "display_data"
    }
   ],
   "source": [
    "plt.figure(figsize=(12, 8))\n",
    "plt.subplot(211)\n",
    "plt.plot(range(len(cumulativePropHeads)), cumulativePropHeads)\n",
    "plt.ylim(0, 1)\n",
    "plt.axhline(0.5, color='k', linestyle= '--', alpha=0.3)\n",
    "plt.title(\"Proportion of head vs. # of flips (1000)\")\n",
    "plt.subplot(212)\n",
    "plt.plot(range(len(cumulativePropHeads)), 1 - cumulativePropHeads, color='r')\n",
    "plt.ylim(0, 1)\n",
    "plt.axhline(0.5, color='k', linestyle= '--', alpha=0.3)\n",
    "plt.title(\"Proportion of tails vs. # of flips (1000)\")"
   ]
  },
  {
   "cell_type": "markdown",
   "metadata": {},
   "source": [
    "## Plot with legend\n",
    "Plots can have legends and labels"
   ]
  },
  {
   "cell_type": "code",
   "execution_count": 47,
   "metadata": {},
   "outputs": [
    {
     "data": {
      "text/plain": [
       "<matplotlib.legend.Legend at 0x2104e306a90>"
      ]
     },
     "execution_count": 47,
     "metadata": {},
     "output_type": "execute_result"
    },
    {
     "data": {
      "image/png": "[encoded data removed]",
      "text/plain": [
       "<Figure size 864x576 with 1 Axes>"
      ]
     },
     "metadata": {},
     "output_type": "display_data"
    }
   ],
   "source": [
    "plt.figure(figsize=(12, 8))\n",
    "plt.plot(range(len(cumulativePropHeads)), cumulativePropHeads, label='heads')\n",
    "plt.axhline(0.5, color='k', linestyle= '--', alpha=0.3)\n",
    "plt.title(\"Proportion of head and tails vs. # of flips (1000)\")\n",
    "plt.plot(range(len(cumulativePropHeads)), 1 - cumulativePropHeads, color='r', label='tails')\n",
    "plt.ylim(0, 1)\n",
    "plt.axhline(0.5, color='k', linestyle= '--', alpha=0.3)\n",
    "plt.legend()"
   ]
  },
  {
   "cell_type": "markdown",
   "metadata": {
    "slideshow": {
     "slide_type": "slide"
    }
   },
   "source": [
    "### Long-Term Frequency\n",
    "\n",
    "* Even after 1,000 draws, the proportion of heads is not exactly 0.5\n",
    "  * A run of 1,000 samples is still just a random sample, and there is no guarantee that the relative frequency in the random sample will match the underlying probability of the event. \n",
    "\n",
    "* However, in the \"much longer run,\" the frequency will tend to approximate $p(H)$ and $p(T)$\n"
   ]
  },
  {
   "cell_type": "markdown",
   "metadata": {},
   "source": [
    "The below formula is useful when figuring out how large your sample needs to be to represent the distribution of your data assuming some distribution, in the case of heads and tails, poisson."
   ]
  },
  {
   "cell_type": "markdown",
   "metadata": {
    "slideshow": {
     "slide_type": "slide"
    }
   },
   "source": [
    "<img src=\"sample_size.JPG\" width=\"500\">"
   ]
  },
  {
   "cell_type": "markdown",
   "metadata": {
    "slideshow": {
     "slide_type": "slide"
    }
   },
   "source": [
    "### Assigning Probabilities to Events\n",
    "\n",
    "* Probabilities can be:\n",
    "\n",
    "  * Objective (ex. probability of coin flip)\n",
    "\n",
    "  * Subjective (ex. what is the probability that there is life of Mars)\n",
    "    * Occurs mostly because the topic is foreign and/or unclear  \n",
    "\n",
    "* Can you think of naive way to put objectivity on a subjective probability?\n"
   ]
  },
  {
   "cell_type": "markdown",
   "metadata": {
    "slideshow": {
     "slide_type": "slide"
    }
   },
   "source": [
    "Use relative probability to make subjective probability more understandable. For example, the probability of life on Mars is less than the probability that it will rain tomorrow."
   ]
  },
  {
   "cell_type": "markdown",
   "metadata": {
    "collapsed": true,
    "slideshow": {
     "slide_type": "slide"
    }
   },
   "source": [
    "### Probability versus Statistic\n",
    "\n",
    "* The following is useful although perhaps simplistic distinction between probability and statistics\n",
    "\n",
    "* Probability deals with predicting the likelihood of future events, while statistics analyzes the frequency of past events\n",
    "\n",
    "* Probability is a theoretical branch of mathematics with the consequences of definitions, while statistics is applied  mathematics trying to make sense of real-world observations\n"
   ]
  },
  {
   "cell_type": "markdown",
   "metadata": {
    "slideshow": {
     "slide_type": "slide"
    }
   },
   "source": [
    "\"In probability theory we consider some underlying process which has some randomness or uncertainty modeled by random variables, and we figure out what happens. In statistics we observe something that has happened, and try to figure out what underlying process would explain those observations.\"\n",
    "-Persi Diaconis"
   ]
  },
  {
   "cell_type": "markdown",
   "metadata": {
    "slideshow": {
     "slide_type": "slide"
    }
   },
   "source": [
    "<img src=\"Images/proba_stats_1.png\" alt=\"drawing\" style=\"width:500px;\"/>\n"
   ]
  },
  {
   "cell_type": "markdown",
   "metadata": {
    "slideshow": {
     "slide_type": "slide"
    }
   },
   "source": [
    "<img src=\"Images/modeling_example.png\" alt=\"drawing\" style=\"width:500px;\"/>"
   ]
  },
  {
   "cell_type": "markdown",
   "metadata": {
    "collapsed": true,
    "slideshow": {
     "slide_type": "slide"
    }
   },
   "source": [
    "### The Underlying Generative Process\n",
    "\n",
    "- Populations are dynamic. How are new members generated?\n",
    "\n",
    "- The generative process summarizes the population as it describes how new members can be \"realized\"\n"
   ]
  },
  {
   "cell_type": "markdown",
   "metadata": {},
   "source": [
    "\"In statistical classification, including machine learning, two main approaches are called the generative approach and the discriminative approach. These compute classifiers by different approaches, differing in the degree of statistical modelling. Terminology is inconsistent,[a] but three major types can be distinguished, following Jebara (2004):\n",
    "\n",
    "    Given an observable variable X and a target variable Y, a generative model is a statistical model of the joint probability distribution\n",
    "    A discriminative model is a model of the conditional probability of the target Y, given an observation x\n",
    "   -Wikipedia"
   ]
  },
  {
   "cell_type": "markdown",
   "metadata": {
    "slideshow": {
     "slide_type": "slide"
    }
   },
   "source": [
    "\n",
    "<img src=\"Images/proba_stats_2.png\" alt=\"drawing\" style=\"width:500px;\"/>\n",
    "\n"
   ]
  },
  {
   "cell_type": "markdown",
   "metadata": {
    "slideshow": {
     "slide_type": "notes"
    }
   },
   "source": [
    "Brent"
   ]
  },
  {
   "cell_type": "markdown",
   "metadata": {
    "slideshow": {
     "slide_type": "slide"
    }
   },
   "source": [
    "### Solving a Probabilistic Problem Using Simulation\n",
    "\n",
    "\n",
    "*  Solving the Monty Hall Problem \n",
    " * Problem based on television game Let's make a deal \n",
    " * Named after the show's original host, Monty Hall\n",
    " \n",
    "```\n",
    "Suppose you're on a game show, and you're given the choice of three doors: Behind one door is a car; behind the others, goats. You pick a door (you don't open it yet), say No. 1, and the host, who knows what's behind the doors, opens another door, say No. 3, which has a goat. He then says to you, \"Do you want to pick door No. 2?\" Is it to your advantage to switch your choice?\n",
    " \n",
    "```"
   ]
  },
  {
   "cell_type": "markdown",
   "metadata": {
    "slideshow": {
     "slide_type": "slide"
    }
   },
   "source": [
    "### Solving a Probabilistic Problem Using Simulation\n",
    "\n",
    "\n",
    "At some point while learning about probablistics, we're probably concerned about how we can use what we've learned in real life situations.  In this tutorial we're going to use the \"Monty Hall Problem\" as an example to illustrate how probability can be applied in real life situations and some problems we may encounter along the way and potential solutions on how to solve them.\n",
    "\n",
    "Example:  The \"Monty Hall Problem\" is based after the gameshow \"Let's make a Deal\" and is named after the gameshows original host Monty Hall.  The Monty Hall Problem consists of having the player opening one of 3 doors.  2 of the doors have goats behind them and 1 door has a car behind it.  In order to win the player has to pick the door with the car behind it because they really want the car.  However, before opening a door, the player will get to pick one door, and the host, who knows what's behind all the doors will open a door from the remaining doors that has a goat behind it and give the player an option to open the door they've initialy chosen or switch their choice to the other door.\n",
    "\n",
    " \n",
    "```"
   ]
  },
  {
   "cell_type": "markdown",
   "metadata": {
    "slideshow": {
     "slide_type": "slide"
    }
   },
   "source": [
    "<img src=\"Images/monty_hall.jpeg\" alt=\"drawing\" style=\"width:500px;\"/>\n"
   ]
  },
  {
   "cell_type": "markdown",
   "metadata": {
    "slideshow": {
     "slide_type": "slide"
    }
   },
   "source": [
    "<img src=\"Images/monty_hall_2.png\" alt=\"drawing\" style=\"width:500px;\"/>\n",
    "\n",
    "\n"
   ]
  },
  {
   "cell_type": "markdown",
   "metadata": {
    "slideshow": {
     "slide_type": "slide"
    }
   },
   "source": [
    "# Simulate the Problem\n",
    "\n",
    "* Question: Is it to your advantage to switch your choice?\n",
    " \n",
    "  * We can easily simulate the problem and answer the question using the following approach\n",
    "\n",
    "1. Pick door at random\n",
    "2. Reveal a door that has a goat\n",
    "\n",
    "3.1 Stick with the initial choice \n",
    "\n",
    "  \\# OR\n",
    "\n",
    "3.2 Switch our choice and pick the second door\n",
    "\n",
    "\n",
    "Repeat the process few thousand times and evaluate whether 3.1 is a better strategy than 3.2\n"
   ]
  },
  {
   "cell_type": "markdown",
   "metadata": {
    "slideshow": {
     "slide_type": "slide"
    }
   },
   "source": [
    "# Simulate the Problem\n",
    "\n",
    "* Using the power of programming and Python we'll simulate the problem 1000 times to see if the player is more likely to consistently to pick the door with the car behind it by sticking with the strategy of always sticking with their first pick or by switching their choice.  Or, is it a matter of luck and a 50/50 chance to pick the right door.  Below is a method to program this simulation in Python."
   ]
  },
  {
   "cell_type": "code",
   "execution_count": 262,
   "metadata": {
    "slideshow": {
     "slide_type": "slide"
    }
   },
   "outputs": [
    {
     "name": "stdout",
     "output_type": "stream",
     "text": [
      "['GOAT', 'GOAT', 'CAR']\n"
     ]
    }
   ],
   "source": [
    "doors = [\"GOAT\", \"CAR\", \"GOAT\"]\n",
    "random.shuffle(doors)\n",
    "print(doors)"
   ]
  },
  {
   "cell_type": "code",
   "execution_count": 33,
   "metadata": {
    "slideshow": {
     "slide_type": "slide"
    }
   },
   "outputs": [
    {
     "data": {
      "text/plain": [
       "1"
      ]
     },
     "execution_count": 33,
     "metadata": {},
     "output_type": "execute_result"
    }
   ],
   "source": [
    "random.choice([0,1,2])"
   ]
  },
  {
   "cell_type": "code",
   "execution_count": 263,
   "metadata": {
    "slideshow": {
     "slide_type": "slide"
    }
   },
   "outputs": [
    {
     "data": {
      "text/plain": [
       "0"
      ]
     },
     "execution_count": 263,
     "metadata": {},
     "output_type": "execute_result"
    }
   ],
   "source": [
    "my_pick = random.choice([0,1,2])\n",
    "my_pick"
   ]
  },
  {
   "cell_type": "code",
   "execution_count": 264,
   "metadata": {
    "slideshow": {
     "slide_type": "slide"
    }
   },
   "outputs": [
    {
     "data": {
      "text/plain": [
       "{1, 2}"
      ]
     },
     "execution_count": 264,
     "metadata": {},
     "output_type": "execute_result"
    }
   ],
   "source": [
    "set([0,1,2]).difference([my_pick])"
   ]
  },
  {
   "cell_type": "code",
   "execution_count": 265,
   "metadata": {
    "slideshow": {
     "slide_type": "slide"
    }
   },
   "outputs": [
    {
     "data": {
      "text/plain": [
       "[1, 2]"
      ]
     },
     "execution_count": 265,
     "metadata": {},
     "output_type": "execute_result"
    }
   ],
   "source": [
    "remaining_doors = list(set([0,1,2]).difference([my_pick]))\n",
    "remaining_doors"
   ]
  },
  {
   "cell_type": "code",
   "execution_count": 266,
   "metadata": {
    "slideshow": {
     "slide_type": "slide"
    }
   },
   "outputs": [
    {
     "data": {
      "text/plain": [
       "'GOAT'"
      ]
     },
     "execution_count": 266,
     "metadata": {},
     "output_type": "execute_result"
    }
   ],
   "source": [
    "doors[remaining_doors[0]]\n"
   ]
  },
  {
   "cell_type": "code",
   "execution_count": 267,
   "metadata": {
    "slideshow": {
     "slide_type": "slide"
    }
   },
   "outputs": [
    {
     "data": {
      "text/plain": [
       "'CAR'"
      ]
     },
     "execution_count": 267,
     "metadata": {},
     "output_type": "execute_result"
    }
   ],
   "source": [
    "doors[remaining_doors[1]]"
   ]
  },
  {
   "cell_type": "code",
   "execution_count": 268,
   "metadata": {
    "slideshow": {
     "slide_type": "slide"
    }
   },
   "outputs": [
    {
     "data": {
      "text/plain": [
       "0"
      ]
     },
     "execution_count": 268,
     "metadata": {},
     "output_type": "execute_result"
    }
   ],
   "source": [
    "reveal_door =  0 if doors[remaining_doors[0]] == \"GOAT\" else 1\n",
    "reveal_door"
   ]
  },
  {
   "cell_type": "code",
   "execution_count": 269,
   "metadata": {
    "slideshow": {
     "slide_type": "slide"
    }
   },
   "outputs": [
    {
     "data": {
      "text/plain": [
       "False"
      ]
     },
     "execution_count": 269,
     "metadata": {},
     "output_type": "execute_result"
    }
   ],
   "source": [
    "doors[my_pick] == \"CAR\""
   ]
  },
  {
   "cell_type": "code",
   "execution_count": 270,
   "metadata": {
    "slideshow": {
     "slide_type": "slide"
    }
   },
   "outputs": [],
   "source": [
    "def monty_hall(n=10000, switch=False):\n",
    "    nb_wins = 0 \n",
    "    doors = [\"GOAT\", \"CAR\", \"GOAT\"]\n",
    "    for _ in range(n):\n",
    "        random.shuffle(doors)\n",
    "        my_pick = random.choice([0,1,2])\n",
    "        remaining_doors = list(set([0,1,2]).difference([my_pick]))\n",
    "        reveal_door =  0 if doors[remaining_doors[0]] == \"GOAT\" else 1\n",
    "        if switch:\n",
    "            my_pick = list(set([0,1,2]).difference([my_pick, reveal_door]))[0]\n",
    "        if doors[my_pick] == \"CAR\":\n",
    "            nb_wins += 1\n",
    "    return nb_wins"
   ]
  },
  {
   "cell_type": "code",
   "execution_count": 271,
   "metadata": {
    "slideshow": {
     "slide_type": "slide"
    }
   },
   "outputs": [
    {
     "data": {
      "text/plain": [
       "423"
      ]
     },
     "execution_count": 271,
     "metadata": {},
     "output_type": "execute_result"
    }
   ],
   "source": [
    "monty_hall(n=1000, switch=True)\n"
   ]
  },
  {
   "cell_type": "code",
   "execution_count": 101,
   "metadata": {
    "slideshow": {
     "slide_type": "slide"
    }
   },
   "outputs": [
    {
     "data": {
      "text/plain": [
       "323"
      ]
     },
     "execution_count": 101,
     "metadata": {},
     "output_type": "execute_result"
    }
   ],
   "source": [
    "monty_hall(n=1000, switch=False)"
   ]
  },
  {
   "cell_type": "markdown",
   "metadata": {
    "slideshow": {
     "slide_type": "slide"
    }
   },
   "source": [
    "### Which Strategy is Better\n",
    "\n",
    "\n",
    "* The above does not directly tell us which strategy is better\n",
    "\n",
    "  * It simply shows that out of 10k experiments, we won in $nw_1$ by switching and in $nw_2$ by sticks keep the original selection\n",
    "  * It does not directly compare both strategies\n",
    "\n",
    "* Is this always the case?\n",
    "  * How often will we expect the \"Switch\" strategy to be better?\n",
    "* What is the probability of $nw_1 > nw_2$\n",
    "  * I.e. in the long run, how often should we expect $nw_1 > nw_2$\n",
    "  "
   ]
  },
  {
   "cell_type": "markdown",
   "metadata": {
    "slideshow": {
     "slide_type": "slide"
    }
   },
   "source": [
    "### Which Strategy is Better\n",
    "\n",
    "\n",
    "A problem with determining which strategy is better using the above code is that the above code is just a simulation run 10k times.  Maybe we just got lucky and things could change later in favor of the other strategy later on.  Another possibility is that our overhead view of the 10k results is misleading and although the end result favors one strategy, a closer up view could speak otherwise.  An example may be that the first 1k runs favor the first strategy, the second 1k runs favor the second strategy the third 1k runs favor the secocnd strategy and there's an alternation per 1k runs from then on, alternating which strateg is favored but ending up with an overhead view of the second strategy being favored from the 10k perspective.  In this scenario this means that the second strategy was not consistently favored despite the 10k overview saying otherwise.\n",
    "\n",
    "One dececnt solution to this problem may be to split our gigantic amount of runs into smaller runs and take the percecntage of times each strategy wins, and check to see if there's a consistency to it.  It's safe to say that as long as a strategy wins the majority of times then we should favor that strategy."
   ]
  },
  {
   "cell_type": "code",
   "execution_count": 273,
   "metadata": {
    "slideshow": {
     "slide_type": "slide"
    }
   },
   "outputs": [],
   "source": [
    "def compare_strategy(n=1_000):\n",
    "    nb_better_occurr = 0\n",
    "    for i in range(n):\n",
    "        if monty_hall(1, switch=True) >= monty_hall(1, switch=False):\n",
    "            nb_better_occurr += 1 \n",
    "    return(nb_better_occurr / n)\n"
   ]
  },
  {
   "cell_type": "code",
   "execution_count": 274,
   "metadata": {
    "slideshow": {
     "slide_type": "slide"
    }
   },
   "outputs": [
    {
     "data": {
      "text/plain": [
       "0.82"
      ]
     },
     "execution_count": 274,
     "metadata": {},
     "output_type": "execute_result"
    }
   ],
   "source": [
    "compare_strategy()"
   ]
  },
  {
   "cell_type": "code",
   "execution_count": 275,
   "metadata": {
    "slideshow": {
     "slide_type": "slide"
    }
   },
   "outputs": [
    {
     "data": {
      "text/plain": [
       "0.815"
      ]
     },
     "execution_count": 275,
     "metadata": {},
     "output_type": "execute_result"
    }
   ],
   "source": [
    "compare_strategy()"
   ]
  },
  {
   "cell_type": "code",
   "execution_count": 145,
   "metadata": {
    "slideshow": {
     "slide_type": "slide"
    }
   },
   "outputs": [
    {
     "data": {
      "text/plain": [
       "[0.812, 0.823, 0.82, 0.811, 0.818, 0.804, 0.82, 0.837, 0.829, 0.822]"
      ]
     },
     "execution_count": 145,
     "metadata": {},
     "output_type": "execute_result"
    }
   ],
   "source": [
    "nb_trials = 1000\n",
    "trials_results = []\n",
    "for _ in range(nb_trials):\n",
    "    trials_results.append(compare_strategy())\n",
    " \n",
    "trails_results[0:10]"
   ]
  },
  {
   "cell_type": "code",
   "execution_count": 147,
   "metadata": {
    "slideshow": {
     "slide_type": "slide"
    }
   },
   "outputs": [
    {
     "data": {
      "image/png": "[encoded data removed]",
      "text/plain": [
       "<matplotlib.figure.Figure at 0x112c0c5f8>"
      ]
     },
     "metadata": {},
     "output_type": "display_data"
    }
   ],
   "source": [
    "_ = plt.hist(trials_results, edgecolor='black', linewidth=1.2)"
   ]
  },
  {
   "cell_type": "markdown",
   "metadata": {
    "slideshow": {
     "slide_type": "slide"
    }
   },
   "source": [
    "### Combinatorial Probabilities\n",
    "\n",
    "* Easy to simulate and compute combinatorial probabilities\n",
    "\n",
    "  * We know how to sample with or without replacement\n",
    "  * Most importantly, we know how to generate events for situations with uniform events\n",
    "\n",
    "    * use `random.choice`\n",
    "    \n",
    "* What about nonuniform probabilities?\n",
    "\n",
    "* For example, the probability of a person responding to your request to volunteer for testing your software is 0.03\n",
    "  * One out of ~100 people who receive your mailer, three will volunteer for testing your software \n",
    "\n",
    "* What is the probability of having at least 30 people volunteering if you send the 1200 people \n",
    "\n",
    "  * 1200 is your total budgets for mailing\n",
    "  * 30 is the minimum number of testers you are willing to report your VCs (investors)\n"
   ]
  },
  {
   "cell_type": "markdown",
   "metadata": {
    "slideshow": {
     "slide_type": "slide"
    }
   },
   "source": [
    "### Combinatorial Probabilities\n",
    "\n",
    "So far we've been talking about taking probablities from simple problems where what happens are limited and predictable and forcecd.  However, what happens if choices aren't limited and predictable.  What problems can occur then?  \n",
    "\n",
    "For example, let's take the p\n",
    "\n",
    "* For example, the probability of a person responding to your request to volunteer for testing your software is 0.03\n",
    "  * One out of ~100 people who receive your mailer, three will volunteer for testing your software \n",
    "\n",
    "* What is the probability of having at least 30 people volunteering if you send the 1200 people \n",
    "\n",
    "  * 1200 is your total budgets for mailing\n",
    "  * 30 is the minimum number of testers you are willing to report your VCs (investors)\n"
   ]
  },
  {
   "cell_type": "code",
   "execution_count": 230,
   "metadata": {
    "slideshow": {
     "slide_type": "slide"
    }
   },
   "outputs": [
    {
     "data": {
      "text/plain": [
       "[0, 0, 0]"
      ]
     },
     "execution_count": 230,
     "metadata": {},
     "output_type": "execute_result"
    }
   ],
   "source": [
    "# we encode those who volunteer as 1 and those who don't as 1.\n",
    "# we generate a vector that represents the ration of users likely to volunteer\n",
    "[0] * 3"
   ]
  },
  {
   "cell_type": "code",
   "execution_count": 231,
   "metadata": {
    "slideshow": {
     "slide_type": "slide"
    }
   },
   "outputs": [],
   "source": [
    "# in 100 people, we have\n",
    "population = [0] * 97  + [1] * 3\n"
   ]
  },
  {
   "cell_type": "code",
   "execution_count": null,
   "metadata": {
    "collapsed": true,
    "slideshow": {
     "slide_type": "slide"
    }
   },
   "outputs": [],
   "source": [
    "random.choice()"
   ]
  },
  {
   "cell_type": "code",
   "execution_count": 239,
   "metadata": {
    "slideshow": {
     "slide_type": "slide"
    }
   },
   "outputs": [],
   "source": [
    "# We make some assumption about the populations here\n",
    "# the code below can be easily written using random.choice method in the numpy package\n",
    "\n",
    "def get_random_sample (data, nb_samples):\n",
    "    nb_volunteers = 0 \n",
    "    for _ in range(nb_samples):\n",
    "        nb_volunteers += random.choice(data)\n",
    "    return nb_volunteers\n"
   ]
  },
  {
   "cell_type": "code",
   "execution_count": 240,
   "metadata": {
    "slideshow": {
     "slide_type": "slide"
    }
   },
   "outputs": [
    {
     "data": {
      "text/plain": [
       "48"
      ]
     },
     "execution_count": 240,
     "metadata": {},
     "output_type": "execute_result"
    }
   ],
   "source": [
    "get_random_sample (population, 1200)"
   ]
  },
  {
   "cell_type": "code",
   "execution_count": 241,
   "metadata": {
    "slideshow": {
     "slide_type": "slide"
    }
   },
   "outputs": [
    {
     "name": "stdout",
     "output_type": "stream",
     "text": [
      "0.8203\n"
     ]
    }
   ],
   "source": [
    "# recall that the probability is the long-term proportion with which a certain event will occur \n",
    "# you can repeat the experiment and count the number of time you are satisfied\n",
    "nb_satisfied = 0\n",
    "for i in range(10000):\n",
    "    if get_random_sample(population, 1200) > 30:\n",
    "        nb_satisfied +=1 \n",
    "print(nb_satisfied/10000)"
   ]
  },
  {
   "cell_type": "markdown",
   "metadata": {
    "slideshow": {
     "slide_type": "slide"
    }
   },
   "source": [
    "### Probability Models\n",
    "\n",
    "* There are much easier ways compute this and other popular (canonical) distributions\n",
    "\n",
    "* Parameterized function, which given a parameter, can easily compute the probability  of any outcome in the sample space\n",
    "\n",
    "  *  Those are called probability distributions"
   ]
  }
 ],
 "metadata": {
  "celltoolbar": "Slideshow",
  "hide_input": false,
  "kernelspec": {
   "display_name": "Python 3",
   "language": "python",
   "name": "python3"
  },
  "language_info": {
   "codemirror_mode": {
    "name": "ipython",
    "version": 3
   },
   "file_extension": ".py",
   "mimetype": "text/x-python",
   "name": "python",
   "nbconvert_exporter": "python",
   "pygments_lexer": "ipython3",
   "version": "3.6.5"
  }
 },
 "nbformat": 4,
 "nbformat_minor": 2
}
